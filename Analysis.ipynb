{
 "cells": [
  {
   "cell_type": "markdown",
   "metadata": {},
   "source": [
    "# Solución de ejercicios liceo Volta 2020-21\n",
    "Durante el año lectivo 2020-21 los estudiantes del Liceo del Gimnasio Alesandro Volta han respondido una encuesta al finalizar la solución de ejercicios propuestos por el profesor.\n",
    "\n",
    "La encuesta es de google forms, y los resultados están guardados en una hoja de google sheets. Para su análisis se harán los siguientes pasos:\n",
    "1. Obtener datos de la hoja de cálculo\n",
    "2. Analizar por curso y por taller\n",
    "3. Analizar por estudiante\n",
    "4. ...."
   ]
  },
  {
   "cell_type": "markdown",
   "metadata": {},
   "source": [
    "### Importando librerias necesarias"
   ]
  },
  {
   "cell_type": "code",
   "execution_count": 1,
   "metadata": {},
   "outputs": [],
   "source": [
    "import pandas as pd\n",
    "import matplotlib.pyplot as plt\n",
    "from helpers import *"
   ]
  },
  {
   "cell_type": "markdown",
   "metadata": {},
   "source": [
    "## Autenticarse con google y obtener datos"
   ]
  },
  {
   "cell_type": "code",
   "execution_count": 2,
   "metadata": {},
   "outputs": [],
   "source": [
    "SCOPES = ['https://www.googleapis.com/auth/spreadsheets']\n",
    "SPREADSHEET_ID = \"1mpuSZwgZO_CAVO1g90UDQAri_rip98Hrs939t3Jpd5Q\"\n",
    "students_spreadsheet_id = \"1rWju7T0eNFGi-FoIRgrF87-IsQu40AP087tzzKq8fyg\"\n",
    "RANGE_NAME = \"Respuestas de formulario 1\"\n",
    "range_name2 = \"Hoja 1\""
   ]
  },
  {
   "cell_type": "code",
   "execution_count": 3,
   "metadata": {},
   "outputs": [
    {
     "name": "stdout",
     "output_type": "stream",
     "text": [
      "COMPLETE: Data copied\n",
      "COMPLETE: Data copied\n"
     ]
    }
   ],
   "source": [
    "data = pull_sheet_data(SCOPES, SPREADSHEET_ID, RANGE_NAME)\n",
    "data2 = pull_sheet_data(SCOPES, students_spreadsheet_id, range_name2)"
   ]
  },
  {
   "cell_type": "code",
   "execution_count": 4,
   "metadata": {},
   "outputs": [],
   "source": [
    "surveyDf = pd.DataFrame(data[1:], columns=data[0])\n",
    "studentsDf = pd.DataFrame(data2[1:], columns = data2[0])"
   ]
  },
  {
   "cell_type": "code",
   "execution_count": 5,
   "metadata": {},
   "outputs": [
    {
     "data": {
      "text/html": [
       "<div>\n",
       "<style scoped>\n",
       "    .dataframe tbody tr th:only-of-type {\n",
       "        vertical-align: middle;\n",
       "    }\n",
       "\n",
       "    .dataframe tbody tr th {\n",
       "        vertical-align: top;\n",
       "    }\n",
       "\n",
       "    .dataframe thead th {\n",
       "        text-align: right;\n",
       "    }\n",
       "</style>\n",
       "<table border=\"1\" class=\"dataframe\">\n",
       "  <thead>\n",
       "    <tr style=\"text-align: right;\">\n",
       "      <th></th>\n",
       "      <th>Marca temporal</th>\n",
       "      <th>Dirección de correo electrónico</th>\n",
       "      <th>Código taller</th>\n",
       "      <th>Cómo te fue: [Ejercicio 1]</th>\n",
       "      <th>Cómo te fue: [Ejercicio 2]</th>\n",
       "      <th>Cómo te fue: [Ejercicio 3]</th>\n",
       "      <th>Cómo te fue: [Ejercicio 4]</th>\n",
       "      <th>Cómo te fue: [Ejercicio 5]</th>\n",
       "    </tr>\n",
       "  </thead>\n",
       "  <tbody>\n",
       "    <tr>\n",
       "      <th>0</th>\n",
       "      <td>3/9/2020 7:54:15</td>\n",
       "      <td>mattiapietro.canale@gimnasiovolta.edu.co</td>\n",
       "      <td>2202021001</td>\n",
       "      <td>Excelente</td>\n",
       "      <td>Excelente</td>\n",
       "      <td>Excelente</td>\n",
       "      <td>Excelente</td>\n",
       "      <td>Excelente</td>\n",
       "    </tr>\n",
       "    <tr>\n",
       "      <th>1</th>\n",
       "      <td>3/9/2020 8:04:52</td>\n",
       "      <td>mariaalexandra.manriqueb@gimnasiovolta.edu.co</td>\n",
       "      <td>2202021001</td>\n",
       "      <td>Excelente</td>\n",
       "      <td>Bien</td>\n",
       "      <td>Excelente</td>\n",
       "      <td>Excelente</td>\n",
       "      <td>Bien</td>\n",
       "    </tr>\n",
       "    <tr>\n",
       "      <th>2</th>\n",
       "      <td>3/9/2020 8:05:03</td>\n",
       "      <td>davidalejandro.plazasr@gimnasiovolta.edu.co</td>\n",
       "      <td>2202021001</td>\n",
       "      <td>Excelente</td>\n",
       "      <td>Excelente</td>\n",
       "      <td>Bien</td>\n",
       "      <td>Bien</td>\n",
       "      <td>Excelente</td>\n",
       "    </tr>\n",
       "    <tr>\n",
       "      <th>3</th>\n",
       "      <td>3/9/2020 8:05:54</td>\n",
       "      <td>martin.polaniag@gimnasiovolta.edu.co</td>\n",
       "      <td>2202021001</td>\n",
       "      <td>Excelente</td>\n",
       "      <td>Excelente</td>\n",
       "      <td>Bien</td>\n",
       "      <td>Bien</td>\n",
       "      <td>Bien</td>\n",
       "    </tr>\n",
       "    <tr>\n",
       "      <th>4</th>\n",
       "      <td>3/9/2020 8:05:59</td>\n",
       "      <td>lauragabriela.gonzalezj@gimnasiovolta.edu.co</td>\n",
       "      <td>2202021001</td>\n",
       "      <td>Bien</td>\n",
       "      <td>Bien</td>\n",
       "      <td>Regular</td>\n",
       "      <td>Regular</td>\n",
       "      <td>Bien</td>\n",
       "    </tr>\n",
       "  </tbody>\n",
       "</table>\n",
       "</div>"
      ],
      "text/plain": [
       "     Marca temporal                Dirección de correo electrónico  \\\n",
       "0  3/9/2020 7:54:15       mattiapietro.canale@gimnasiovolta.edu.co   \n",
       "1  3/9/2020 8:04:52  mariaalexandra.manriqueb@gimnasiovolta.edu.co   \n",
       "2  3/9/2020 8:05:03    davidalejandro.plazasr@gimnasiovolta.edu.co   \n",
       "3  3/9/2020 8:05:54           martin.polaniag@gimnasiovolta.edu.co   \n",
       "4  3/9/2020 8:05:59   lauragabriela.gonzalezj@gimnasiovolta.edu.co   \n",
       "\n",
       "  Código taller Cómo te fue: [Ejercicio 1] Cómo te fue: [Ejercicio 2]  \\\n",
       "0    2202021001                  Excelente                  Excelente   \n",
       "1    2202021001                  Excelente                       Bien   \n",
       "2    2202021001                  Excelente                  Excelente   \n",
       "3    2202021001                  Excelente                  Excelente   \n",
       "4    2202021001                       Bien                       Bien   \n",
       "\n",
       "  Cómo te fue: [Ejercicio 3] Cómo te fue: [Ejercicio 4]  \\\n",
       "0                  Excelente                  Excelente   \n",
       "1                  Excelente                  Excelente   \n",
       "2                       Bien                       Bien   \n",
       "3                       Bien                       Bien   \n",
       "4                    Regular                    Regular   \n",
       "\n",
       "  Cómo te fue: [Ejercicio 5]  \n",
       "0                  Excelente  \n",
       "1                       Bien  \n",
       "2                  Excelente  \n",
       "3                       Bien  \n",
       "4                       Bien  "
      ]
     },
     "execution_count": 5,
     "metadata": {},
     "output_type": "execute_result"
    }
   ],
   "source": [
    "surveyDf.head()"
   ]
  },
  {
   "cell_type": "code",
   "execution_count": 6,
   "metadata": {},
   "outputs": [
    {
     "data": {
      "text/html": [
       "<div>\n",
       "<style scoped>\n",
       "    .dataframe tbody tr th:only-of-type {\n",
       "        vertical-align: middle;\n",
       "    }\n",
       "\n",
       "    .dataframe tbody tr th {\n",
       "        vertical-align: top;\n",
       "    }\n",
       "\n",
       "    .dataframe thead th {\n",
       "        text-align: right;\n",
       "    }\n",
       "</style>\n",
       "<table border=\"1\" class=\"dataframe\">\n",
       "  <thead>\n",
       "    <tr style=\"text-align: right;\">\n",
       "      <th></th>\n",
       "      <th>Nombre</th>\n",
       "      <th>Curso</th>\n",
       "      <th>Correo</th>\n",
       "    </tr>\n",
       "  </thead>\n",
       "  <tbody>\n",
       "    <tr>\n",
       "      <th>0</th>\n",
       "      <td>Arámbula Jaimes, Nicolás Andrés</td>\n",
       "      <td>1</td>\n",
       "      <td>nicolasandres.arambulaj@gimnasiovolta.edu.co</td>\n",
       "    </tr>\n",
       "    <tr>\n",
       "      <th>1</th>\n",
       "      <td>Castro Céspedes, Jorge Andrés</td>\n",
       "      <td>1</td>\n",
       "      <td>jorgeandres.castroc@gimnasiovolta.edu.co</td>\n",
       "    </tr>\n",
       "    <tr>\n",
       "      <th>2</th>\n",
       "      <td>Castro Medina, Francisco</td>\n",
       "      <td>1</td>\n",
       "      <td>francisco.castrom@gimnasiovolta.edu.co</td>\n",
       "    </tr>\n",
       "    <tr>\n",
       "      <th>3</th>\n",
       "      <td>Clavijo Rey, Mariana</td>\n",
       "      <td>1</td>\n",
       "      <td>mariana.clavijor@gimnasiovolta.edu.co</td>\n",
       "    </tr>\n",
       "    <tr>\n",
       "      <th>4</th>\n",
       "      <td>Cotes Ontibón, Aníbal Santiago</td>\n",
       "      <td>1</td>\n",
       "      <td>anibalsantiago.coteso@gimnasiovolta.edu.co</td>\n",
       "    </tr>\n",
       "  </tbody>\n",
       "</table>\n",
       "</div>"
      ],
      "text/plain": [
       "                            Nombre Curso  \\\n",
       "0  Arámbula Jaimes, Nicolás Andrés     1   \n",
       "1    Castro Céspedes, Jorge Andrés     1   \n",
       "2         Castro Medina, Francisco     1   \n",
       "3             Clavijo Rey, Mariana     1   \n",
       "4   Cotes Ontibón, Aníbal Santiago     1   \n",
       "\n",
       "                                         Correo  \n",
       "0  nicolasandres.arambulaj@gimnasiovolta.edu.co  \n",
       "1      jorgeandres.castroc@gimnasiovolta.edu.co  \n",
       "2        francisco.castrom@gimnasiovolta.edu.co  \n",
       "3         mariana.clavijor@gimnasiovolta.edu.co  \n",
       "4    anibalsantiago.coteso@gimnasiovolta.edu.co  "
      ]
     },
     "execution_count": 6,
     "metadata": {},
     "output_type": "execute_result"
    }
   ],
   "source": [
    "studentsDf.head()"
   ]
  },
  {
   "cell_type": "markdown",
   "metadata": {},
   "source": [
    "## Limpiar los datos"
   ]
  },
  {
   "cell_type": "markdown",
   "metadata": {},
   "source": [
    "### Asignar nombres y tipos de columnas adecuados"
   ]
  },
  {
   "cell_type": "code",
   "execution_count": 7,
   "metadata": {},
   "outputs": [],
   "source": [
    "surveyDf.columns = ['dateTime', 'email', 'psCode',\n",
    "       'problem1', 'problem2',\n",
    "       'problem3', 'problem4',\n",
    "       'problem5']"
   ]
  },
  {
   "cell_type": "code",
   "execution_count": 8,
   "metadata": {},
   "outputs": [
    {
     "data": {
      "text/plain": [
       "dateTime    object\n",
       "email       object\n",
       "psCode      object\n",
       "problem1    object\n",
       "problem2    object\n",
       "problem3    object\n",
       "problem4    object\n",
       "problem5    object\n",
       "dtype: object"
      ]
     },
     "execution_count": 8,
     "metadata": {},
     "output_type": "execute_result"
    }
   ],
   "source": [
    "surveyDf.dtypes"
   ]
  },
  {
   "cell_type": "code",
   "execution_count": 9,
   "metadata": {},
   "outputs": [],
   "source": [
    "surveyDf['dateTime'] = surveyDf['dateTime'].astype('datetime64')"
   ]
  },
  {
   "cell_type": "code",
   "execution_count": 10,
   "metadata": {},
   "outputs": [],
   "source": [
    "studentsDf.columns = [\"nombre\", \"curso\", \"email\"]"
   ]
  },
  {
   "cell_type": "markdown",
   "metadata": {},
   "source": [
    "### Unir la base de datos de estudiantes con la encuesta"
   ]
  },
  {
   "cell_type": "code",
   "execution_count": 11,
   "metadata": {},
   "outputs": [],
   "source": [
    "df = pd.merge(surveyDf, studentsDf, on=\"email\")"
   ]
  },
  {
   "cell_type": "code",
   "execution_count": 12,
   "metadata": {},
   "outputs": [
    {
     "data": {
      "text/html": [
       "<div>\n",
       "<style scoped>\n",
       "    .dataframe tbody tr th:only-of-type {\n",
       "        vertical-align: middle;\n",
       "    }\n",
       "\n",
       "    .dataframe tbody tr th {\n",
       "        vertical-align: top;\n",
       "    }\n",
       "\n",
       "    .dataframe thead th {\n",
       "        text-align: right;\n",
       "    }\n",
       "</style>\n",
       "<table border=\"1\" class=\"dataframe\">\n",
       "  <thead>\n",
       "    <tr style=\"text-align: right;\">\n",
       "      <th></th>\n",
       "      <th>dateTime</th>\n",
       "      <th>email</th>\n",
       "      <th>psCode</th>\n",
       "      <th>problem1</th>\n",
       "      <th>problem2</th>\n",
       "      <th>problem3</th>\n",
       "      <th>problem4</th>\n",
       "      <th>problem5</th>\n",
       "      <th>nombre</th>\n",
       "      <th>curso</th>\n",
       "    </tr>\n",
       "  </thead>\n",
       "  <tbody>\n",
       "    <tr>\n",
       "      <th>0</th>\n",
       "      <td>2020-03-09 07:54:15</td>\n",
       "      <td>mattiapietro.canale@gimnasiovolta.edu.co</td>\n",
       "      <td>2202021001</td>\n",
       "      <td>Excelente</td>\n",
       "      <td>Excelente</td>\n",
       "      <td>Excelente</td>\n",
       "      <td>Excelente</td>\n",
       "      <td>Excelente</td>\n",
       "      <td>Canale , Mattia Pietro</td>\n",
       "      <td>2</td>\n",
       "    </tr>\n",
       "    <tr>\n",
       "      <th>1</th>\n",
       "      <td>2020-06-09 11:19:24</td>\n",
       "      <td>mattiapietro.canale@gimnasiovolta.edu.co</td>\n",
       "      <td>2202021002</td>\n",
       "      <td>Excelente</td>\n",
       "      <td>Excelente</td>\n",
       "      <td>Excelente</td>\n",
       "      <td>Excelente</td>\n",
       "      <td>Excelente</td>\n",
       "      <td>Canale , Mattia Pietro</td>\n",
       "      <td>2</td>\n",
       "    </tr>\n",
       "    <tr>\n",
       "      <th>2</th>\n",
       "      <td>2020-03-09 08:04:52</td>\n",
       "      <td>mariaalexandra.manriqueb@gimnasiovolta.edu.co</td>\n",
       "      <td>2202021001</td>\n",
       "      <td>Excelente</td>\n",
       "      <td>Bien</td>\n",
       "      <td>Excelente</td>\n",
       "      <td>Excelente</td>\n",
       "      <td>Bien</td>\n",
       "      <td>Manrique Botero, Maria Alexandra</td>\n",
       "      <td>2</td>\n",
       "    </tr>\n",
       "    <tr>\n",
       "      <th>3</th>\n",
       "      <td>2020-07-09 06:52:39</td>\n",
       "      <td>mariaalexandra.manriqueb@gimnasiovolta.edu.co</td>\n",
       "      <td>2202021002</td>\n",
       "      <td>Bien</td>\n",
       "      <td>Bien</td>\n",
       "      <td>Regular</td>\n",
       "      <td>Bien</td>\n",
       "      <td>Bien</td>\n",
       "      <td>Manrique Botero, Maria Alexandra</td>\n",
       "      <td>2</td>\n",
       "    </tr>\n",
       "    <tr>\n",
       "      <th>4</th>\n",
       "      <td>2020-03-09 08:05:03</td>\n",
       "      <td>davidalejandro.plazasr@gimnasiovolta.edu.co</td>\n",
       "      <td>2202021001</td>\n",
       "      <td>Excelente</td>\n",
       "      <td>Excelente</td>\n",
       "      <td>Bien</td>\n",
       "      <td>Bien</td>\n",
       "      <td>Excelente</td>\n",
       "      <td>Plazas Rodriguez, David Alejandro</td>\n",
       "      <td>2</td>\n",
       "    </tr>\n",
       "  </tbody>\n",
       "</table>\n",
       "</div>"
      ],
      "text/plain": [
       "             dateTime                                          email  \\\n",
       "0 2020-03-09 07:54:15       mattiapietro.canale@gimnasiovolta.edu.co   \n",
       "1 2020-06-09 11:19:24       mattiapietro.canale@gimnasiovolta.edu.co   \n",
       "2 2020-03-09 08:04:52  mariaalexandra.manriqueb@gimnasiovolta.edu.co   \n",
       "3 2020-07-09 06:52:39  mariaalexandra.manriqueb@gimnasiovolta.edu.co   \n",
       "4 2020-03-09 08:05:03    davidalejandro.plazasr@gimnasiovolta.edu.co   \n",
       "\n",
       "       psCode   problem1   problem2   problem3   problem4   problem5  \\\n",
       "0  2202021001  Excelente  Excelente  Excelente  Excelente  Excelente   \n",
       "1  2202021002  Excelente  Excelente  Excelente  Excelente  Excelente   \n",
       "2  2202021001  Excelente       Bien  Excelente  Excelente       Bien   \n",
       "3  2202021002       Bien       Bien    Regular       Bien       Bien   \n",
       "4  2202021001  Excelente  Excelente       Bien       Bien  Excelente   \n",
       "\n",
       "                              nombre curso  \n",
       "0             Canale , Mattia Pietro     2  \n",
       "1             Canale , Mattia Pietro     2  \n",
       "2   Manrique Botero, Maria Alexandra     2  \n",
       "3   Manrique Botero, Maria Alexandra     2  \n",
       "4  Plazas Rodriguez, David Alejandro     2  "
      ]
     },
     "execution_count": 12,
     "metadata": {},
     "output_type": "execute_result"
    }
   ],
   "source": [
    "df.head()"
   ]
  },
  {
   "cell_type": "markdown",
   "metadata": {},
   "source": [
    "## Tomar solo la respuesta mas reciente de cada estudiante en cada taller"
   ]
  },
  {
   "cell_type": "code",
   "execution_count": 13,
   "metadata": {},
   "outputs": [],
   "source": [
    "df = df.loc[df.groupby([\"curso\",'nombre','psCode']).dateTime.idxmax()]"
   ]
  },
  {
   "cell_type": "code",
   "execution_count": 14,
   "metadata": {},
   "outputs": [],
   "source": [
    "df.to_csv('cleanData.csv')"
   ]
  },
  {
   "cell_type": "code",
   "execution_count": 15,
   "metadata": {},
   "outputs": [
    {
     "name": "stdout",
     "output_type": "stream",
     "text": [
      "1202021001\n",
      "1202021002\n",
      "1202021004\n",
      "2202021001\n",
      "2202021002\n",
      "2202021004\n",
      "2202021005\n",
      "3202021001\n",
      "3202021002\n",
      "3202021003\n",
      "4202021001\n"
     ]
    }
   ],
   "source": [
    "for psCode in df['psCode'].unique():\n",
    "    \n",
    "    print(psCode)"
   ]
  },
  {
   "cell_type": "code",
   "execution_count": 16,
   "metadata": {},
   "outputs": [
    {
     "data": {
      "text/html": [
       "<div>\n",
       "<style scoped>\n",
       "    .dataframe tbody tr th:only-of-type {\n",
       "        vertical-align: middle;\n",
       "    }\n",
       "\n",
       "    .dataframe tbody tr th {\n",
       "        vertical-align: top;\n",
       "    }\n",
       "\n",
       "    .dataframe thead th {\n",
       "        text-align: right;\n",
       "    }\n",
       "</style>\n",
       "<table border=\"1\" class=\"dataframe\">\n",
       "  <thead>\n",
       "    <tr style=\"text-align: right;\">\n",
       "      <th></th>\n",
       "      <th>dateTime</th>\n",
       "      <th>email</th>\n",
       "      <th>psCode</th>\n",
       "      <th>problem1</th>\n",
       "      <th>problem2</th>\n",
       "      <th>problem3</th>\n",
       "      <th>problem4</th>\n",
       "      <th>problem5</th>\n",
       "      <th>nombre</th>\n",
       "      <th>curso</th>\n",
       "    </tr>\n",
       "  </thead>\n",
       "  <tbody>\n",
       "    <tr>\n",
       "      <th>36</th>\n",
       "      <td>2020-03-09 12:08:36</td>\n",
       "      <td>nicolasandres.arambulaj@gimnasiovolta.edu.co</td>\n",
       "      <td>1202021001</td>\n",
       "      <td>2</td>\n",
       "      <td>0</td>\n",
       "      <td>1</td>\n",
       "      <td>0</td>\n",
       "      <td>1</td>\n",
       "      <td>Arámbula Jaimes, Nicolás Andrés</td>\n",
       "      <td>1</td>\n",
       "    </tr>\n",
       "    <tr>\n",
       "      <th>38</th>\n",
       "      <td>2020-10-09 11:46:16</td>\n",
       "      <td>nicolasandres.arambulaj@gimnasiovolta.edu.co</td>\n",
       "      <td>1202021002</td>\n",
       "      <td>0</td>\n",
       "      <td>0</td>\n",
       "      <td>1</td>\n",
       "      <td>1</td>\n",
       "      <td>0</td>\n",
       "      <td>Arámbula Jaimes, Nicolás Andrés</td>\n",
       "      <td>1</td>\n",
       "    </tr>\n",
       "    <tr>\n",
       "      <th>40</th>\n",
       "      <td>2020-12-09 17:08:45</td>\n",
       "      <td>nicolasandres.arambulaj@gimnasiovolta.edu.co</td>\n",
       "      <td>1202021004</td>\n",
       "      <td>0</td>\n",
       "      <td>0</td>\n",
       "      <td>1</td>\n",
       "      <td>1</td>\n",
       "      <td>0</td>\n",
       "      <td>Arámbula Jaimes, Nicolás Andrés</td>\n",
       "      <td>1</td>\n",
       "    </tr>\n",
       "    <tr>\n",
       "      <th>163</th>\n",
       "      <td>2020-10-09 09:15:01</td>\n",
       "      <td>jorgeandres.castroc@gimnasiovolta.edu.co</td>\n",
       "      <td>1202021001</td>\n",
       "      <td>2</td>\n",
       "      <td>1</td>\n",
       "      <td>3</td>\n",
       "      <td>1</td>\n",
       "      <td>4</td>\n",
       "      <td>Castro Céspedes, Jorge Andrés</td>\n",
       "      <td>1</td>\n",
       "    </tr>\n",
       "    <tr>\n",
       "      <th>164</th>\n",
       "      <td>2020-10-09 11:23:34</td>\n",
       "      <td>jorgeandres.castroc@gimnasiovolta.edu.co</td>\n",
       "      <td>1202021002</td>\n",
       "      <td>0</td>\n",
       "      <td>1</td>\n",
       "      <td>0</td>\n",
       "      <td>1</td>\n",
       "      <td>0</td>\n",
       "      <td>Castro Céspedes, Jorge Andrés</td>\n",
       "      <td>1</td>\n",
       "    </tr>\n",
       "  </tbody>\n",
       "</table>\n",
       "</div>"
      ],
      "text/plain": [
       "               dateTime                                         email  \\\n",
       "36  2020-03-09 12:08:36  nicolasandres.arambulaj@gimnasiovolta.edu.co   \n",
       "38  2020-10-09 11:46:16  nicolasandres.arambulaj@gimnasiovolta.edu.co   \n",
       "40  2020-12-09 17:08:45  nicolasandres.arambulaj@gimnasiovolta.edu.co   \n",
       "163 2020-10-09 09:15:01      jorgeandres.castroc@gimnasiovolta.edu.co   \n",
       "164 2020-10-09 11:23:34      jorgeandres.castroc@gimnasiovolta.edu.co   \n",
       "\n",
       "         psCode  problem1  problem2  problem3  problem4  problem5  \\\n",
       "36   1202021001         2         0         1         0         1   \n",
       "38   1202021002         0         0         1         1         0   \n",
       "40   1202021004         0         0         1         1         0   \n",
       "163  1202021001         2         1         3         1         4   \n",
       "164  1202021002         0         1         0         1         0   \n",
       "\n",
       "                              nombre curso  \n",
       "36   Arámbula Jaimes, Nicolás Andrés     1  \n",
       "38   Arámbula Jaimes, Nicolás Andrés     1  \n",
       "40   Arámbula Jaimes, Nicolás Andrés     1  \n",
       "163    Castro Céspedes, Jorge Andrés     1  \n",
       "164    Castro Céspedes, Jorge Andrés     1  "
      ]
     },
     "execution_count": 16,
     "metadata": {},
     "output_type": "execute_result"
    }
   ],
   "source": [
    "problemas = [\"problem1\", \"problem2\", \"problem3\", \"problem4\", \"problem5\"]\n",
    "for problema in problemas:\n",
    "    df[problema].replace([\"Excelente\",\"Bien\", \"Regular\", \"No lo hice\", \"Mal\"], [0,1,2,3,4], inplace = True)\n",
    "df.head()"
   ]
  },
  {
   "cell_type": "markdown",
   "metadata": {},
   "source": [
    "## Calcular puntaje de dificultad que cada estudiante le asignó a cada taller"
   ]
  },
  {
   "cell_type": "code",
   "execution_count": 17,
   "metadata": {},
   "outputs": [],
   "source": [
    "df['dificultad'] =df[problemas].sum(axis=1)"
   ]
  },
  {
   "cell_type": "code",
   "execution_count": 18,
   "metadata": {
    "scrolled": true
   },
   "outputs": [
    {
     "data": {
      "text/html": [
       "<div>\n",
       "<style scoped>\n",
       "    .dataframe tbody tr th:only-of-type {\n",
       "        vertical-align: middle;\n",
       "    }\n",
       "\n",
       "    .dataframe tbody tr th {\n",
       "        vertical-align: top;\n",
       "    }\n",
       "\n",
       "    .dataframe thead th {\n",
       "        text-align: right;\n",
       "    }\n",
       "</style>\n",
       "<table border=\"1\" class=\"dataframe\">\n",
       "  <thead>\n",
       "    <tr style=\"text-align: right;\">\n",
       "      <th></th>\n",
       "      <th>dateTime</th>\n",
       "      <th>email</th>\n",
       "      <th>psCode</th>\n",
       "      <th>problem1</th>\n",
       "      <th>problem2</th>\n",
       "      <th>problem3</th>\n",
       "      <th>problem4</th>\n",
       "      <th>problem5</th>\n",
       "      <th>nombre</th>\n",
       "      <th>curso</th>\n",
       "      <th>dificultad</th>\n",
       "    </tr>\n",
       "  </thead>\n",
       "  <tbody>\n",
       "    <tr>\n",
       "      <th>36</th>\n",
       "      <td>2020-03-09 12:08:36</td>\n",
       "      <td>nicolasandres.arambulaj@gimnasiovolta.edu.co</td>\n",
       "      <td>1202021001</td>\n",
       "      <td>2</td>\n",
       "      <td>0</td>\n",
       "      <td>1</td>\n",
       "      <td>0</td>\n",
       "      <td>1</td>\n",
       "      <td>Arámbula Jaimes, Nicolás Andrés</td>\n",
       "      <td>1</td>\n",
       "      <td>4</td>\n",
       "    </tr>\n",
       "    <tr>\n",
       "      <th>38</th>\n",
       "      <td>2020-10-09 11:46:16</td>\n",
       "      <td>nicolasandres.arambulaj@gimnasiovolta.edu.co</td>\n",
       "      <td>1202021002</td>\n",
       "      <td>0</td>\n",
       "      <td>0</td>\n",
       "      <td>1</td>\n",
       "      <td>1</td>\n",
       "      <td>0</td>\n",
       "      <td>Arámbula Jaimes, Nicolás Andrés</td>\n",
       "      <td>1</td>\n",
       "      <td>2</td>\n",
       "    </tr>\n",
       "    <tr>\n",
       "      <th>40</th>\n",
       "      <td>2020-12-09 17:08:45</td>\n",
       "      <td>nicolasandres.arambulaj@gimnasiovolta.edu.co</td>\n",
       "      <td>1202021004</td>\n",
       "      <td>0</td>\n",
       "      <td>0</td>\n",
       "      <td>1</td>\n",
       "      <td>1</td>\n",
       "      <td>0</td>\n",
       "      <td>Arámbula Jaimes, Nicolás Andrés</td>\n",
       "      <td>1</td>\n",
       "      <td>2</td>\n",
       "    </tr>\n",
       "    <tr>\n",
       "      <th>163</th>\n",
       "      <td>2020-10-09 09:15:01</td>\n",
       "      <td>jorgeandres.castroc@gimnasiovolta.edu.co</td>\n",
       "      <td>1202021001</td>\n",
       "      <td>2</td>\n",
       "      <td>1</td>\n",
       "      <td>3</td>\n",
       "      <td>1</td>\n",
       "      <td>4</td>\n",
       "      <td>Castro Céspedes, Jorge Andrés</td>\n",
       "      <td>1</td>\n",
       "      <td>11</td>\n",
       "    </tr>\n",
       "    <tr>\n",
       "      <th>164</th>\n",
       "      <td>2020-10-09 11:23:34</td>\n",
       "      <td>jorgeandres.castroc@gimnasiovolta.edu.co</td>\n",
       "      <td>1202021002</td>\n",
       "      <td>0</td>\n",
       "      <td>1</td>\n",
       "      <td>0</td>\n",
       "      <td>1</td>\n",
       "      <td>0</td>\n",
       "      <td>Castro Céspedes, Jorge Andrés</td>\n",
       "      <td>1</td>\n",
       "      <td>2</td>\n",
       "    </tr>\n",
       "  </tbody>\n",
       "</table>\n",
       "</div>"
      ],
      "text/plain": [
       "               dateTime                                         email  \\\n",
       "36  2020-03-09 12:08:36  nicolasandres.arambulaj@gimnasiovolta.edu.co   \n",
       "38  2020-10-09 11:46:16  nicolasandres.arambulaj@gimnasiovolta.edu.co   \n",
       "40  2020-12-09 17:08:45  nicolasandres.arambulaj@gimnasiovolta.edu.co   \n",
       "163 2020-10-09 09:15:01      jorgeandres.castroc@gimnasiovolta.edu.co   \n",
       "164 2020-10-09 11:23:34      jorgeandres.castroc@gimnasiovolta.edu.co   \n",
       "\n",
       "         psCode  problem1  problem2  problem3  problem4  problem5  \\\n",
       "36   1202021001         2         0         1         0         1   \n",
       "38   1202021002         0         0         1         1         0   \n",
       "40   1202021004         0         0         1         1         0   \n",
       "163  1202021001         2         1         3         1         4   \n",
       "164  1202021002         0         1         0         1         0   \n",
       "\n",
       "                              nombre curso  dificultad  \n",
       "36   Arámbula Jaimes, Nicolás Andrés     1           4  \n",
       "38   Arámbula Jaimes, Nicolás Andrés     1           2  \n",
       "40   Arámbula Jaimes, Nicolás Andrés     1           2  \n",
       "163    Castro Céspedes, Jorge Andrés     1          11  \n",
       "164    Castro Céspedes, Jorge Andrés     1           2  "
      ]
     },
     "execution_count": 18,
     "metadata": {},
     "output_type": "execute_result"
    }
   ],
   "source": [
    "df.head()"
   ]
  },
  {
   "cell_type": "markdown",
   "metadata": {},
   "source": [
    "## Estudiantes con mayor dificultad"
   ]
  },
  {
   "cell_type": "code",
   "execution_count": 21,
   "metadata": {},
   "outputs": [
    {
     "data": {
      "text/html": [
       "<div>\n",
       "<style scoped>\n",
       "    .dataframe tbody tr th:only-of-type {\n",
       "        vertical-align: middle;\n",
       "    }\n",
       "\n",
       "    .dataframe tbody tr th {\n",
       "        vertical-align: top;\n",
       "    }\n",
       "\n",
       "    .dataframe thead th {\n",
       "        text-align: right;\n",
       "    }\n",
       "</style>\n",
       "<table border=\"1\" class=\"dataframe\">\n",
       "  <thead>\n",
       "    <tr style=\"text-align: right;\">\n",
       "      <th></th>\n",
       "      <th>dificultad</th>\n",
       "    </tr>\n",
       "    <tr>\n",
       "      <th>nombre</th>\n",
       "      <th></th>\n",
       "    </tr>\n",
       "  </thead>\n",
       "  <tbody>\n",
       "    <tr>\n",
       "      <th>Moreno Delgado, María José</th>\n",
       "      <td>41</td>\n",
       "    </tr>\n",
       "    <tr>\n",
       "      <th>Rojas Gómez, Laura Natalia</th>\n",
       "      <td>37</td>\n",
       "    </tr>\n",
       "    <tr>\n",
       "      <th>Vega Vergara, Julian Esteban</th>\n",
       "      <td>34</td>\n",
       "    </tr>\n",
       "    <tr>\n",
       "      <th>Moreno Cañizares, Luis Alejandro</th>\n",
       "      <td>32</td>\n",
       "    </tr>\n",
       "    <tr>\n",
       "      <th>Luces Sandoval, Diego Andrés</th>\n",
       "      <td>29</td>\n",
       "    </tr>\n",
       "    <tr>\n",
       "      <th>...</th>\n",
       "      <td>...</td>\n",
       "    </tr>\n",
       "    <tr>\n",
       "      <th>Hernández Pardo, Julián Andrés</th>\n",
       "      <td>2</td>\n",
       "    </tr>\n",
       "    <tr>\n",
       "      <th>Alvarado Rodríguez, Julián Alberto</th>\n",
       "      <td>2</td>\n",
       "    </tr>\n",
       "    <tr>\n",
       "      <th>Arámbula Jaimes, David Santiago</th>\n",
       "      <td>1</td>\n",
       "    </tr>\n",
       "    <tr>\n",
       "      <th>Canale , Mattia Pietro</th>\n",
       "      <td>0</td>\n",
       "    </tr>\n",
       "    <tr>\n",
       "      <th>Pacheco Tocora, Juanita</th>\n",
       "      <td>0</td>\n",
       "    </tr>\n",
       "  </tbody>\n",
       "</table>\n",
       "<p>69 rows × 1 columns</p>\n",
       "</div>"
      ],
      "text/plain": [
       "                                    dificultad\n",
       "nombre                                        \n",
       "Moreno Delgado, María José                  41\n",
       "Rojas Gómez, Laura Natalia                  37\n",
       "Vega Vergara, Julian Esteban                34\n",
       "Moreno Cañizares, Luis Alejandro            32\n",
       "Luces Sandoval, Diego Andrés                29\n",
       "...                                        ...\n",
       "Hernández Pardo, Julián Andrés               2\n",
       "Alvarado Rodríguez, Julián Alberto           2\n",
       "Arámbula Jaimes, David Santiago              1\n",
       "Canale , Mattia Pietro                       0\n",
       "Pacheco Tocora, Juanita                      0\n",
       "\n",
       "[69 rows x 1 columns]"
      ]
     },
     "execution_count": 21,
     "metadata": {},
     "output_type": "execute_result"
    }
   ],
   "source": [
    "df[[\"nombre\", \"dificultad\"]].groupby([\"nombre\"]).sum().sort_values(\"dificultad\", ascending=False)"
   ]
  },
  {
   "cell_type": "markdown",
   "metadata": {},
   "source": [
    "## Dificultad promedio por taller"
   ]
  },
  {
   "cell_type": "code",
   "execution_count": 23,
   "metadata": {
    "scrolled": true
   },
   "outputs": [
    {
     "data": {
      "text/html": [
       "<div>\n",
       "<style scoped>\n",
       "    .dataframe tbody tr th:only-of-type {\n",
       "        vertical-align: middle;\n",
       "    }\n",
       "\n",
       "    .dataframe tbody tr th {\n",
       "        vertical-align: top;\n",
       "    }\n",
       "\n",
       "    .dataframe thead th {\n",
       "        text-align: right;\n",
       "    }\n",
       "</style>\n",
       "<table border=\"1\" class=\"dataframe\">\n",
       "  <thead>\n",
       "    <tr style=\"text-align: right;\">\n",
       "      <th></th>\n",
       "      <th>dificultad</th>\n",
       "    </tr>\n",
       "    <tr>\n",
       "      <th>psCode</th>\n",
       "      <th></th>\n",
       "    </tr>\n",
       "  </thead>\n",
       "  <tbody>\n",
       "    <tr>\n",
       "      <th>3202021001</th>\n",
       "      <td>134</td>\n",
       "    </tr>\n",
       "    <tr>\n",
       "      <th>2202021001</th>\n",
       "      <td>114</td>\n",
       "    </tr>\n",
       "    <tr>\n",
       "      <th>1202021001</th>\n",
       "      <td>111</td>\n",
       "    </tr>\n",
       "    <tr>\n",
       "      <th>3202021003</th>\n",
       "      <td>77</td>\n",
       "    </tr>\n",
       "    <tr>\n",
       "      <th>2202021002</th>\n",
       "      <td>75</td>\n",
       "    </tr>\n",
       "    <tr>\n",
       "      <th>2202021004</th>\n",
       "      <td>72</td>\n",
       "    </tr>\n",
       "    <tr>\n",
       "      <th>3202021002</th>\n",
       "      <td>67</td>\n",
       "    </tr>\n",
       "    <tr>\n",
       "      <th>4202021001</th>\n",
       "      <td>61</td>\n",
       "    </tr>\n",
       "    <tr>\n",
       "      <th>1202021004</th>\n",
       "      <td>59</td>\n",
       "    </tr>\n",
       "    <tr>\n",
       "      <th>1202021002</th>\n",
       "      <td>35</td>\n",
       "    </tr>\n",
       "    <tr>\n",
       "      <th>2202021005</th>\n",
       "      <td>20</td>\n",
       "    </tr>\n",
       "  </tbody>\n",
       "</table>\n",
       "</div>"
      ],
      "text/plain": [
       "            dificultad\n",
       "psCode                \n",
       "3202021001         134\n",
       "2202021001         114\n",
       "1202021001         111\n",
       "3202021003          77\n",
       "2202021002          75\n",
       "2202021004          72\n",
       "3202021002          67\n",
       "4202021001          61\n",
       "1202021004          59\n",
       "1202021002          35\n",
       "2202021005          20"
      ]
     },
     "execution_count": 23,
     "metadata": {},
     "output_type": "execute_result"
    }
   ],
   "source": [
    "df[[\"psCode\", \"dificultad\"]].groupby([\"psCode\"]).sum().sort_values(\"dificultad\", ascending=False)"
   ]
  },
  {
   "cell_type": "code",
   "execution_count": 34,
   "metadata": {},
   "outputs": [
    {
     "data": {
      "text/plain": [
       "<AxesSubplot:>"
      ]
     },
     "execution_count": 34,
     "metadata": {},
     "output_type": "execute_result"
    },
    {
     "data": {
      "image/png": "[encoded data removed]",
      "text/plain": [
       "<Figure size 432x288 with 1 Axes>"
      ]
     },
     "metadata": {
      "needs_background": "light"
     },
     "output_type": "display_data"
    }
   ],
   "source": [
    "df.loc[df[\"psCode\"]==\"3202021003\"][[\"problem1\", \"problem2\", \"problem3\", \"problem4\", \"problem5\"]].sum(axis=0).plot(kind=\"bar\")"
   ]
  },
  {
   "cell_type": "markdown",
   "metadata": {},
   "source": [
    "## Número de talleres presentados por estudiante vs máximo clase"
   ]
  },
  {
   "cell_type": "code",
   "execution_count": 19,
   "metadata": {},
   "outputs": [
    {
     "data": {
      "text/plain": [
       "0     Arámbula Jaimes, Nicolás Andrés\n",
       "1       Castro Céspedes, Jorge Andrés\n",
       "2            Castro Medina, Francisco\n",
       "3                Clavijo Rey, Mariana\n",
       "4      Cotes Ontibón, Aníbal Santiago\n",
       "                   ...               \n",
       "69               Mineo Pachón, Matteo\n",
       "70            Ortolan Conto, Emanuela\n",
       "71               Sánchez Páez, Felipe\n",
       "72           Suárez Dolmen, Alejandro\n",
       "73         Torres Prada, Sarah Elvira\n",
       "Name: nombre, Length: 74, dtype: object"
      ]
     },
     "execution_count": 19,
     "metadata": {},
     "output_type": "execute_result"
    }
   ],
   "source": [
    "studentsDf['nombre']"
   ]
  },
  {
   "cell_type": "code",
   "execution_count": 20,
   "metadata": {},
   "outputs": [],
   "source": [
    "participation = df[[\"curso\", \"nombre\", \"psCode\"]].groupby([\"nombre\",\"curso\"]).count()\n",
    "participation =participation.rename(columns={\"psCode\":\"talleres\"})\n",
    "\n",
    "participation = participation.reset_index()"
   ]
  },
  {
   "cell_type": "code",
   "execution_count": 21,
   "metadata": {},
   "outputs": [
    {
     "data": {
      "text/plain": [
       "RangeIndex(start=0, stop=47, step=1)"
      ]
     },
     "execution_count": 21,
     "metadata": {},
     "output_type": "execute_result"
    }
   ],
   "source": [
    "participation.index"
   ]
  },
  {
   "cell_type": "code",
   "execution_count": 22,
   "metadata": {},
   "outputs": [],
   "source": [
    "newStudents = []\n",
    "for estudiante in studentsDf['nombre']:\n",
    "    if estudiante not in list(df['nombre']):\n",
    "        newStudent = {\"nombre\":estudiante, \"curso\":studentsDf.loc[studentsDf['nombre']==estudiante]['curso'].iloc[0], \"talleres\":0}\n",
    "        newStudents.append(newStudent)\n",
    "newDf = pd.DataFrame(newStudents)\n",
    "participation = participation.append(newDf)"
   ]
  },
  {
   "cell_type": "code",
   "execution_count": 23,
   "metadata": {},
   "outputs": [],
   "source": [
    "participation = participation.sort_values(by=[\"curso\", \"nombre\"])"
   ]
  },
  {
   "cell_type": "code",
   "execution_count": 49,
   "metadata": {},
   "outputs": [
    {
     "data": {
      "text/html": [
       "<div>\n",
       "<style scoped>\n",
       "    .dataframe tbody tr th:only-of-type {\n",
       "        vertical-align: middle;\n",
       "    }\n",
       "\n",
       "    .dataframe tbody tr th {\n",
       "        vertical-align: top;\n",
       "    }\n",
       "\n",
       "    .dataframe thead th {\n",
       "        text-align: right;\n",
       "    }\n",
       "</style>\n",
       "<table border=\"1\" class=\"dataframe\">\n",
       "  <thead>\n",
       "    <tr style=\"text-align: right;\">\n",
       "      <th></th>\n",
       "      <th>talleres</th>\n",
       "    </tr>\n",
       "    <tr>\n",
       "      <th>curso</th>\n",
       "      <th></th>\n",
       "    </tr>\n",
       "  </thead>\n",
       "  <tbody>\n",
       "    <tr>\n",
       "      <th>1</th>\n",
       "      <td>1</td>\n",
       "    </tr>\n",
       "    <tr>\n",
       "      <th>2</th>\n",
       "      <td>2</td>\n",
       "    </tr>\n",
       "    <tr>\n",
       "      <th>3</th>\n",
       "      <td>2</td>\n",
       "    </tr>\n",
       "    <tr>\n",
       "      <th>4</th>\n",
       "      <td>0</td>\n",
       "    </tr>\n",
       "  </tbody>\n",
       "</table>\n",
       "</div>"
      ],
      "text/plain": [
       "       talleres\n",
       "curso          \n",
       "1             1\n",
       "2             2\n",
       "3             2\n",
       "4             0"
      ]
     },
     "execution_count": 49,
     "metadata": {},
     "output_type": "execute_result"
    }
   ],
   "source": [
    "numTalleres = participation[[\"curso\", \"talleres\"]].groupby('curso').max()\n",
    "numTalleres"
   ]
  },
  {
   "cell_type": "code",
   "execution_count": 41,
   "metadata": {},
   "outputs": [],
   "source": [
    "maxTalleres = []\n",
    "for index in participation.index:    \n",
    "    curso = participation.iloc[index]['curso']\n",
    "    maxTalleres.append(numTalleres.loc[curso, \"talleres\"])\n",
    "participation['maxTalleres']    = maxTalleres"
   ]
  },
  {
   "cell_type": "code",
   "execution_count": 48,
   "metadata": {},
   "outputs": [
    {
     "data": {
      "text/html": [
       "<div>\n",
       "<style scoped>\n",
       "    .dataframe tbody tr th:only-of-type {\n",
       "        vertical-align: middle;\n",
       "    }\n",
       "\n",
       "    .dataframe tbody tr th {\n",
       "        vertical-align: top;\n",
       "    }\n",
       "\n",
       "    .dataframe thead th {\n",
       "        text-align: right;\n",
       "    }\n",
       "</style>\n",
       "<table border=\"1\" class=\"dataframe\">\n",
       "  <thead>\n",
       "    <tr style=\"text-align: right;\">\n",
       "      <th></th>\n",
       "      <th>nombre</th>\n",
       "      <th>curso</th>\n",
       "      <th>talleres</th>\n",
       "      <th>maxTalleres</th>\n",
       "      <th>nota</th>\n",
       "    </tr>\n",
       "  </thead>\n",
       "  <tbody>\n",
       "    <tr>\n",
       "      <th>22</th>\n",
       "      <td>Mineo Pachón, Matteo</td>\n",
       "      <td>4</td>\n",
       "      <td>0</td>\n",
       "      <td>2</td>\n",
       "      <td>2.0</td>\n",
       "    </tr>\n",
       "    <tr>\n",
       "      <th>23</th>\n",
       "      <td>Ortolan Conto, Emanuela</td>\n",
       "      <td>4</td>\n",
       "      <td>0</td>\n",
       "      <td>2</td>\n",
       "      <td>2.0</td>\n",
       "    </tr>\n",
       "    <tr>\n",
       "      <th>25</th>\n",
       "      <td>Suárez Dolmen, Alejandro</td>\n",
       "      <td>4</td>\n",
       "      <td>0</td>\n",
       "      <td>2</td>\n",
       "      <td>2.0</td>\n",
       "    </tr>\n",
       "    <tr>\n",
       "      <th>24</th>\n",
       "      <td>Sánchez Páez, Felipe</td>\n",
       "      <td>4</td>\n",
       "      <td>0</td>\n",
       "      <td>2</td>\n",
       "      <td>2.0</td>\n",
       "    </tr>\n",
       "    <tr>\n",
       "      <th>26</th>\n",
       "      <td>Torres Prada, Sarah Elvira</td>\n",
       "      <td>4</td>\n",
       "      <td>0</td>\n",
       "      <td>2</td>\n",
       "      <td>2.0</td>\n",
       "    </tr>\n",
       "  </tbody>\n",
       "</table>\n",
       "</div>"
      ],
      "text/plain": [
       "                        nombre curso  talleres  maxTalleres  nota\n",
       "22        Mineo Pachón, Matteo     4         0            2   2.0\n",
       "23     Ortolan Conto, Emanuela     4         0            2   2.0\n",
       "25    Suárez Dolmen, Alejandro     4         0            2   2.0\n",
       "24        Sánchez Páez, Felipe     4         0            2   2.0\n",
       "26  Torres Prada, Sarah Elvira     4         0            2   2.0"
      ]
     },
     "execution_count": 48,
     "metadata": {},
     "output_type": "execute_result"
    }
   ],
   "source": [
    "participation.tail()"
   ]
  },
  {
   "cell_type": "code",
   "execution_count": 45,
   "metadata": {},
   "outputs": [],
   "source": [
    "participation['nota'] = round(2 + 8 * participation['talleres']/participation['maxTalleres'],1)"
   ]
  },
  {
   "cell_type": "code",
   "execution_count": 47,
   "metadata": {},
   "outputs": [
    {
     "data": {
      "text/html": [
       "<div>\n",
       "<style scoped>\n",
       "    .dataframe tbody tr th:only-of-type {\n",
       "        vertical-align: middle;\n",
       "    }\n",
       "\n",
       "    .dataframe tbody tr th {\n",
       "        vertical-align: top;\n",
       "    }\n",
       "\n",
       "    .dataframe thead th {\n",
       "        text-align: right;\n",
       "    }\n",
       "</style>\n",
       "<table border=\"1\" class=\"dataframe\">\n",
       "  <thead>\n",
       "    <tr style=\"text-align: right;\">\n",
       "      <th></th>\n",
       "      <th>nombre</th>\n",
       "      <th>curso</th>\n",
       "      <th>talleres</th>\n",
       "      <th>maxTalleres</th>\n",
       "      <th>nota</th>\n",
       "    </tr>\n",
       "  </thead>\n",
       "  <tbody>\n",
       "    <tr>\n",
       "      <th>0</th>\n",
       "      <td>Arámbula Jaimes, Nicolás Andrés</td>\n",
       "      <td>1</td>\n",
       "      <td>1</td>\n",
       "      <td>1</td>\n",
       "      <td>10.0</td>\n",
       "    </tr>\n",
       "    <tr>\n",
       "      <th>0</th>\n",
       "      <td>Castro Céspedes, Jorge Andrés</td>\n",
       "      <td>1</td>\n",
       "      <td>0</td>\n",
       "      <td>1</td>\n",
       "      <td>2.0</td>\n",
       "    </tr>\n",
       "    <tr>\n",
       "      <th>6</th>\n",
       "      <td>Castro Medina, Francisco</td>\n",
       "      <td>1</td>\n",
       "      <td>1</td>\n",
       "      <td>1</td>\n",
       "      <td>10.0</td>\n",
       "    </tr>\n",
       "    <tr>\n",
       "      <th>7</th>\n",
       "      <td>Clavijo Rey, Mariana</td>\n",
       "      <td>1</td>\n",
       "      <td>1</td>\n",
       "      <td>1</td>\n",
       "      <td>10.0</td>\n",
       "    </tr>\n",
       "    <tr>\n",
       "      <th>9</th>\n",
       "      <td>Cotes Ontibón, Aníbal Santiago</td>\n",
       "      <td>1</td>\n",
       "      <td>1</td>\n",
       "      <td>1</td>\n",
       "      <td>10.0</td>\n",
       "    </tr>\n",
       "    <tr>\n",
       "      <th>...</th>\n",
       "      <td>...</td>\n",
       "      <td>...</td>\n",
       "      <td>...</td>\n",
       "      <td>...</td>\n",
       "      <td>...</td>\n",
       "    </tr>\n",
       "    <tr>\n",
       "      <th>22</th>\n",
       "      <td>Mineo Pachón, Matteo</td>\n",
       "      <td>4</td>\n",
       "      <td>0</td>\n",
       "      <td>2</td>\n",
       "      <td>2.0</td>\n",
       "    </tr>\n",
       "    <tr>\n",
       "      <th>23</th>\n",
       "      <td>Ortolan Conto, Emanuela</td>\n",
       "      <td>4</td>\n",
       "      <td>0</td>\n",
       "      <td>2</td>\n",
       "      <td>2.0</td>\n",
       "    </tr>\n",
       "    <tr>\n",
       "      <th>25</th>\n",
       "      <td>Suárez Dolmen, Alejandro</td>\n",
       "      <td>4</td>\n",
       "      <td>0</td>\n",
       "      <td>2</td>\n",
       "      <td>2.0</td>\n",
       "    </tr>\n",
       "    <tr>\n",
       "      <th>24</th>\n",
       "      <td>Sánchez Páez, Felipe</td>\n",
       "      <td>4</td>\n",
       "      <td>0</td>\n",
       "      <td>2</td>\n",
       "      <td>2.0</td>\n",
       "    </tr>\n",
       "    <tr>\n",
       "      <th>26</th>\n",
       "      <td>Torres Prada, Sarah Elvira</td>\n",
       "      <td>4</td>\n",
       "      <td>0</td>\n",
       "      <td>2</td>\n",
       "      <td>2.0</td>\n",
       "    </tr>\n",
       "  </tbody>\n",
       "</table>\n",
       "<p>74 rows × 5 columns</p>\n",
       "</div>"
      ],
      "text/plain": [
       "                             nombre curso  talleres  maxTalleres  nota\n",
       "0   Arámbula Jaimes, Nicolás Andrés     1         1            1  10.0\n",
       "0     Castro Céspedes, Jorge Andrés     1         0            1   2.0\n",
       "6          Castro Medina, Francisco     1         1            1  10.0\n",
       "7              Clavijo Rey, Mariana     1         1            1  10.0\n",
       "9    Cotes Ontibón, Aníbal Santiago     1         1            1  10.0\n",
       "..                              ...   ...       ...          ...   ...\n",
       "22             Mineo Pachón, Matteo     4         0            2   2.0\n",
       "23          Ortolan Conto, Emanuela     4         0            2   2.0\n",
       "25         Suárez Dolmen, Alejandro     4         0            2   2.0\n",
       "24             Sánchez Páez, Felipe     4         0            2   2.0\n",
       "26       Torres Prada, Sarah Elvira     4         0            2   2.0\n",
       "\n",
       "[74 rows x 5 columns]"
      ]
     },
     "execution_count": 47,
     "metadata": {},
     "output_type": "execute_result"
    }
   ],
   "source": [
    "participation"
   ]
  },
  {
   "cell_type": "code",
   "execution_count": null,
   "metadata": {},
   "outputs": [],
   "source": [
    "df[[\"psCode\", \"dificultad\"]].groupby(['psCode']).mean().plot(kind=\"bar\")"
   ]
  },
  {
   "cell_type": "markdown",
   "metadata": {},
   "source": [
    "## Graficar diagramas de barras para cada taller"
   ]
  },
  {
   "cell_type": "code",
   "execution_count": null,
   "metadata": {},
   "outputs": [],
   "source": [
    "df[df['psCode']==\"2202021001\"][\"problem1\"].value_counts().plot(kind=\"bar\");"
   ]
  },
  {
   "cell_type": "code",
   "execution_count": null,
   "metadata": {},
   "outputs": [],
   "source": [
    "df.groupby([\"psCode\", \"problem1\",\"problem2\", \"problem3\", \"problem4\", \"problem5\" ]).count()"
   ]
  },
  {
   "cell_type": "code",
   "execution_count": null,
   "metadata": {},
   "outputs": [],
   "source": []
  }
 ],
 "metadata": {
  "kernelspec": {
   "display_name": "Python 3",
   "language": "python",
   "name": "python3"
  },
  "language_info": {
   "codemirror_mode": {
    "name": "ipython",
    "version": 3
   },
   "file_extension": ".py",
   "mimetype": "text/x-python",
   "name": "python",
   "nbconvert_exporter": "python",
   "pygments_lexer": "ipython3",
   "version": "3.8.5"
  }
 },
 "nbformat": 4,
 "nbformat_minor": 4
}
