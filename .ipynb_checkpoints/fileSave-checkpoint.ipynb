{
 "cells": [
  {
   "cell_type": "markdown",
   "metadata": {},
   "source": [
    "# Solución de ejercicios liceo Volta 2020-21\n",
    "Durante el año lectivo 2020-21 los estudiantes del Liceo del Gimnasio Alesandro Volta han respondido una encuesta al finalizar la solución de ejercicios propuestos por el profesor.\n",
    "\n",
    "La encuesta es de google forms, y los resultados están guardados en una hoja de google sheets. Para su análisis se harán los siguientes pasos:\n",
    "1. Obtener datos de la hoja de cálculo\n",
    "2. Analizar por curso y por taller\n",
    "3. Analizar por estudiante\n",
    "4. ...."
   ]
  },
  {
   "cell_type": "markdown",
   "metadata": {},
   "source": [
    "### Importando librerias necesarias"
   ]
  },
  {
   "cell_type": "code",
   "execution_count": 106,
   "metadata": {},
   "outputs": [],
   "source": [
    "import pandas as pd\n",
    "import matplotlib.pyplot as plt\n",
    "from helpers import *"
   ]
  },
  {
   "cell_type": "markdown",
   "metadata": {},
   "source": [
    "## Autenticarse con google y obtener datos"
   ]
  },
  {
   "cell_type": "code",
   "execution_count": 78,
   "metadata": {},
   "outputs": [],
   "source": [
    "SCOPES = ['https://www.googleapis.com/auth/spreadsheets']\n",
    "SPREADSHEET_ID = \"1mpuSZwgZO_CAVO1g90UDQAri_rip98Hrs939t3Jpd5Q\"\n",
    "students_spreadsheet_id = \"1rWju7T0eNFGi-FoIRgrF87-IsQu40AP087tzzKq8fyg\"\n",
    "RANGE_NAME = \"Respuestas de formulario 1\"\n",
    "range_name2 = \"Hoja 1\""
   ]
  },
  {
   "cell_type": "code",
   "execution_count": 79,
   "metadata": {},
   "outputs": [
    {
     "name": "stdout",
     "output_type": "stream",
     "text": [
      "COMPLETE: Data copied\n",
      "COMPLETE: Data copied\n"
     ]
    }
   ],
   "source": [
    "data = pull_sheet_data(SCOPES, SPREADSHEET_ID, RANGE_NAME)\n",
    "data2 = pull_sheet_data(SCOPES, students_spreadsheet_id, range_name2)"
   ]
  },
  {
   "cell_type": "code",
   "execution_count": 88,
   "metadata": {},
   "outputs": [],
   "source": [
    "surveyDf = pd.DataFrame(data[1:], columns=data[0])\n",
    "studentsDf = pd.DataFrame(data2[1:], columns = data2[0])"
   ]
  },
  {
   "cell_type": "code",
   "execution_count": 89,
   "metadata": {},
   "outputs": [
    {
     "data": {
      "text/html": [
       "<div>\n",
       "<style scoped>\n",
       "    .dataframe tbody tr th:only-of-type {\n",
       "        vertical-align: middle;\n",
       "    }\n",
       "\n",
       "    .dataframe tbody tr th {\n",
       "        vertical-align: top;\n",
       "    }\n",
       "\n",
       "    .dataframe thead th {\n",
       "        text-align: right;\n",
       "    }\n",
       "</style>\n",
       "<table border=\"1\" class=\"dataframe\">\n",
       "  <thead>\n",
       "    <tr style=\"text-align: right;\">\n",
       "      <th></th>\n",
       "      <th>Marca temporal</th>\n",
       "      <th>Dirección de correo electrónico</th>\n",
       "      <th>Código taller</th>\n",
       "      <th>Cómo te fue: [Ejercicio 1]</th>\n",
       "      <th>Cómo te fue: [Ejercicio 2]</th>\n",
       "      <th>Cómo te fue: [Ejercicio 3]</th>\n",
       "      <th>Cómo te fue: [Ejercicio 4]</th>\n",
       "      <th>Cómo te fue: [Ejercicio 5]</th>\n",
       "    </tr>\n",
       "  </thead>\n",
       "  <tbody>\n",
       "    <tr>\n",
       "      <th>0</th>\n",
       "      <td>3/9/2020 7:54:15</td>\n",
       "      <td>mattiapietro.canale@gimnasiovolta.edu.co</td>\n",
       "      <td>2202021001</td>\n",
       "      <td>Excelente</td>\n",
       "      <td>Excelente</td>\n",
       "      <td>Excelente</td>\n",
       "      <td>Excelente</td>\n",
       "      <td>Excelente</td>\n",
       "    </tr>\n",
       "    <tr>\n",
       "      <th>1</th>\n",
       "      <td>3/9/2020 8:04:52</td>\n",
       "      <td>mariaalexandra.manriqueb@gimnasiovolta.edu.co</td>\n",
       "      <td>2202021001</td>\n",
       "      <td>Excelente</td>\n",
       "      <td>Bien</td>\n",
       "      <td>Excelente</td>\n",
       "      <td>Excelente</td>\n",
       "      <td>Bien</td>\n",
       "    </tr>\n",
       "    <tr>\n",
       "      <th>2</th>\n",
       "      <td>3/9/2020 8:05:03</td>\n",
       "      <td>davidalejandro.plazasr@gimnasiovolta.edu.co</td>\n",
       "      <td>2202021001</td>\n",
       "      <td>Excelente</td>\n",
       "      <td>Excelente</td>\n",
       "      <td>Bien</td>\n",
       "      <td>Bien</td>\n",
       "      <td>Excelente</td>\n",
       "    </tr>\n",
       "    <tr>\n",
       "      <th>3</th>\n",
       "      <td>3/9/2020 8:05:54</td>\n",
       "      <td>martin.polaniag@gimnasiovolta.edu.co</td>\n",
       "      <td>2202021001</td>\n",
       "      <td>Excelente</td>\n",
       "      <td>Excelente</td>\n",
       "      <td>Bien</td>\n",
       "      <td>Bien</td>\n",
       "      <td>Bien</td>\n",
       "    </tr>\n",
       "    <tr>\n",
       "      <th>4</th>\n",
       "      <td>3/9/2020 8:05:59</td>\n",
       "      <td>lauragabriela.gonzalezj@gimnasiovolta.edu.co</td>\n",
       "      <td>2202021001</td>\n",
       "      <td>Bien</td>\n",
       "      <td>Bien</td>\n",
       "      <td>Regular</td>\n",
       "      <td>Regular</td>\n",
       "      <td>Bien</td>\n",
       "    </tr>\n",
       "  </tbody>\n",
       "</table>\n",
       "</div>"
      ],
      "text/plain": [
       "     Marca temporal                Dirección de correo electrónico  \\\n",
       "0  3/9/2020 7:54:15       mattiapietro.canale@gimnasiovolta.edu.co   \n",
       "1  3/9/2020 8:04:52  mariaalexandra.manriqueb@gimnasiovolta.edu.co   \n",
       "2  3/9/2020 8:05:03    davidalejandro.plazasr@gimnasiovolta.edu.co   \n",
       "3  3/9/2020 8:05:54           martin.polaniag@gimnasiovolta.edu.co   \n",
       "4  3/9/2020 8:05:59   lauragabriela.gonzalezj@gimnasiovolta.edu.co   \n",
       "\n",
       "  Código taller Cómo te fue: [Ejercicio 1] Cómo te fue: [Ejercicio 2]  \\\n",
       "0    2202021001                  Excelente                  Excelente   \n",
       "1    2202021001                  Excelente                       Bien   \n",
       "2    2202021001                  Excelente                  Excelente   \n",
       "3    2202021001                  Excelente                  Excelente   \n",
       "4    2202021001                       Bien                       Bien   \n",
       "\n",
       "  Cómo te fue: [Ejercicio 3] Cómo te fue: [Ejercicio 4]  \\\n",
       "0                  Excelente                  Excelente   \n",
       "1                  Excelente                  Excelente   \n",
       "2                       Bien                       Bien   \n",
       "3                       Bien                       Bien   \n",
       "4                    Regular                    Regular   \n",
       "\n",
       "  Cómo te fue: [Ejercicio 5]  \n",
       "0                  Excelente  \n",
       "1                       Bien  \n",
       "2                  Excelente  \n",
       "3                       Bien  \n",
       "4                       Bien  "
      ]
     },
     "execution_count": 89,
     "metadata": {},
     "output_type": "execute_result"
    }
   ],
   "source": [
    "surveyDf.head()"
   ]
  },
  {
   "cell_type": "code",
   "execution_count": 90,
   "metadata": {},
   "outputs": [
    {
     "data": {
      "text/html": [
       "<div>\n",
       "<style scoped>\n",
       "    .dataframe tbody tr th:only-of-type {\n",
       "        vertical-align: middle;\n",
       "    }\n",
       "\n",
       "    .dataframe tbody tr th {\n",
       "        vertical-align: top;\n",
       "    }\n",
       "\n",
       "    .dataframe thead th {\n",
       "        text-align: right;\n",
       "    }\n",
       "</style>\n",
       "<table border=\"1\" class=\"dataframe\">\n",
       "  <thead>\n",
       "    <tr style=\"text-align: right;\">\n",
       "      <th></th>\n",
       "      <th>Nombre</th>\n",
       "      <th>Curso</th>\n",
       "      <th>Correo</th>\n",
       "    </tr>\n",
       "  </thead>\n",
       "  <tbody>\n",
       "    <tr>\n",
       "      <th>0</th>\n",
       "      <td>Arámbula Jaimes, Nicolás Andrés</td>\n",
       "      <td>1</td>\n",
       "      <td>nicolasandres.arambulaj@gimnasiovolta.edu.co</td>\n",
       "    </tr>\n",
       "    <tr>\n",
       "      <th>1</th>\n",
       "      <td>Castro Céspedes, Jorge Andrés</td>\n",
       "      <td>1</td>\n",
       "      <td>jorgeandres.castroc@gimnasiovolta.edu.co</td>\n",
       "    </tr>\n",
       "    <tr>\n",
       "      <th>2</th>\n",
       "      <td>Castro Medina, Francisco</td>\n",
       "      <td>1</td>\n",
       "      <td>francisco.castrom@gimnasiovolta.edu.co</td>\n",
       "    </tr>\n",
       "    <tr>\n",
       "      <th>3</th>\n",
       "      <td>Clavijo Rey, Mariana</td>\n",
       "      <td>1</td>\n",
       "      <td>mariana.clavijor@gimnasiovolta.edu.co</td>\n",
       "    </tr>\n",
       "    <tr>\n",
       "      <th>4</th>\n",
       "      <td>Cotes Ontibón, Aníbal Santiago</td>\n",
       "      <td>1</td>\n",
       "      <td>anibalsantiago.coteso@gimnasiovolta.edu.co</td>\n",
       "    </tr>\n",
       "  </tbody>\n",
       "</table>\n",
       "</div>"
      ],
      "text/plain": [
       "                            Nombre Curso  \\\n",
       "0  Arámbula Jaimes, Nicolás Andrés     1   \n",
       "1    Castro Céspedes, Jorge Andrés     1   \n",
       "2         Castro Medina, Francisco     1   \n",
       "3             Clavijo Rey, Mariana     1   \n",
       "4   Cotes Ontibón, Aníbal Santiago     1   \n",
       "\n",
       "                                         Correo  \n",
       "0  nicolasandres.arambulaj@gimnasiovolta.edu.co  \n",
       "1      jorgeandres.castroc@gimnasiovolta.edu.co  \n",
       "2        francisco.castrom@gimnasiovolta.edu.co  \n",
       "3         mariana.clavijor@gimnasiovolta.edu.co  \n",
       "4    anibalsantiago.coteso@gimnasiovolta.edu.co  "
      ]
     },
     "execution_count": 90,
     "metadata": {},
     "output_type": "execute_result"
    }
   ],
   "source": [
    "studentsDf.head()"
   ]
  },
  {
   "cell_type": "markdown",
   "metadata": {},
   "source": [
    "## Limpiar los datos"
   ]
  },
  {
   "cell_type": "markdown",
   "metadata": {},
   "source": [
    "### Asignar nombres y tipos de columnas adecuados"
   ]
  },
  {
   "cell_type": "code",
   "execution_count": 91,
   "metadata": {},
   "outputs": [],
   "source": [
    "surveyDf.columns = ['dateTime', 'email', 'psCode',\n",
    "       'problem1', 'problem2',\n",
    "       'problem3', 'problem4',\n",
    "       'problem5']"
   ]
  },
  {
   "cell_type": "code",
   "execution_count": 92,
   "metadata": {},
   "outputs": [
    {
     "data": {
      "text/plain": [
       "dateTime    object\n",
       "email       object\n",
       "psCode      object\n",
       "problem1    object\n",
       "problem2    object\n",
       "problem3    object\n",
       "problem4    object\n",
       "problem5    object\n",
       "dtype: object"
      ]
     },
     "execution_count": 92,
     "metadata": {},
     "output_type": "execute_result"
    }
   ],
   "source": [
    "surveyDf.dtypes"
   ]
  },
  {
   "cell_type": "code",
   "execution_count": 93,
   "metadata": {},
   "outputs": [],
   "source": [
    "surveyDf['dateTime'] = surveyDf['dateTime'].astype('datetime64')"
   ]
  },
  {
   "cell_type": "code",
   "execution_count": 95,
   "metadata": {},
   "outputs": [],
   "source": [
    "studentsDf.columns = [\"nombre\", \"curso\", \"email\"]"
   ]
  },
  {
   "cell_type": "markdown",
   "metadata": {},
   "source": [
    "### Unir la base de datos de estudiantes con la encuesta"
   ]
  },
  {
   "cell_type": "code",
   "execution_count": 97,
   "metadata": {},
   "outputs": [],
   "source": [
    "df = pd.merge(surveyDf, studentsDf, on=\"email\")"
   ]
  },
  {
   "cell_type": "markdown",
   "metadata": {},
   "source": [
    "## Tomar solo la respuesta mas reciente de cada estudiante en cada taller"
   ]
  },
  {
   "cell_type": "code",
   "execution_count": 100,
   "metadata": {},
   "outputs": [],
   "source": [
    "df = df.loc[df.groupby([\"curso\",'nombre','psCode']).dateTime.idxmax()]"
   ]
  },
  {
   "cell_type": "code",
   "execution_count": 101,
   "metadata": {},
   "outputs": [],
   "source": [
    "df.to_csv('cleanData.csv')"
   ]
  },
  {
   "cell_type": "code",
   "execution_count": 111,
   "metadata": {},
   "outputs": [
    {
     "name": "stdout",
     "output_type": "stream",
     "text": [
      "1202021001\n",
      "2202021001\n",
      "2202021002\n",
      "3202021001\n",
      "3202021002\n"
     ]
    }
   ],
   "source": [
    "for psCode in df['psCode'].unique():\n",
    "    \n",
    "    print(psCode)"
   ]
  },
  {
   "cell_type": "code",
   "execution_count": 115,
   "metadata": {},
   "outputs": [
    {
     "data": {
      "text/html": [
       "<div>\n",
       "<style scoped>\n",
       "    .dataframe tbody tr th:only-of-type {\n",
       "        vertical-align: middle;\n",
       "    }\n",
       "\n",
       "    .dataframe tbody tr th {\n",
       "        vertical-align: top;\n",
       "    }\n",
       "\n",
       "    .dataframe thead th {\n",
       "        text-align: right;\n",
       "    }\n",
       "</style>\n",
       "<table border=\"1\" class=\"dataframe\">\n",
       "  <thead>\n",
       "    <tr style=\"text-align: right;\">\n",
       "      <th></th>\n",
       "      <th>dateTime</th>\n",
       "      <th>email</th>\n",
       "      <th>psCode</th>\n",
       "      <th>problem1</th>\n",
       "      <th>problem2</th>\n",
       "      <th>problem3</th>\n",
       "      <th>problem4</th>\n",
       "      <th>problem5</th>\n",
       "      <th>nombre</th>\n",
       "      <th>curso</th>\n",
       "    </tr>\n",
       "  </thead>\n",
       "  <tbody>\n",
       "    <tr>\n",
       "      <th>22</th>\n",
       "      <td>2020-03-09 12:08:36</td>\n",
       "      <td>nicolasandres.arambulaj@gimnasiovolta.edu.co</td>\n",
       "      <td>1202021001</td>\n",
       "      <td>2</td>\n",
       "      <td>0</td>\n",
       "      <td>1</td>\n",
       "      <td>0</td>\n",
       "      <td>1</td>\n",
       "      <td>Arámbula Jaimes, Nicolás Andrés</td>\n",
       "      <td>1</td>\n",
       "    </tr>\n",
       "    <tr>\n",
       "      <th>23</th>\n",
       "      <td>2020-03-09 12:19:51</td>\n",
       "      <td>francisco.castrom@gimnasiovolta.edu.co</td>\n",
       "      <td>1202021001</td>\n",
       "      <td>4</td>\n",
       "      <td>1</td>\n",
       "      <td>4</td>\n",
       "      <td>1</td>\n",
       "      <td>0</td>\n",
       "      <td>Castro Medina, Francisco</td>\n",
       "      <td>1</td>\n",
       "    </tr>\n",
       "    <tr>\n",
       "      <th>32</th>\n",
       "      <td>2020-03-09 13:54:37</td>\n",
       "      <td>mariana.clavijor@gimnasiovolta.edu.co</td>\n",
       "      <td>1202021001</td>\n",
       "      <td>2</td>\n",
       "      <td>0</td>\n",
       "      <td>2</td>\n",
       "      <td>0</td>\n",
       "      <td>1</td>\n",
       "      <td>Clavijo Rey, Mariana</td>\n",
       "      <td>1</td>\n",
       "    </tr>\n",
       "    <tr>\n",
       "      <th>21</th>\n",
       "      <td>2020-03-09 12:02:35</td>\n",
       "      <td>anibalsantiago.coteso@gimnasiovolta.edu.co</td>\n",
       "      <td>1202021001</td>\n",
       "      <td>4</td>\n",
       "      <td>0</td>\n",
       "      <td>1</td>\n",
       "      <td>0</td>\n",
       "      <td>2</td>\n",
       "      <td>Cotes Ontibón, Aníbal Santiago</td>\n",
       "      <td>1</td>\n",
       "    </tr>\n",
       "    <tr>\n",
       "      <th>46</th>\n",
       "      <td>2020-03-09 16:16:22</td>\n",
       "      <td>gabriela.jaramillor@gimnasiovolta.edu.co</td>\n",
       "      <td>1202021001</td>\n",
       "      <td>2</td>\n",
       "      <td>0</td>\n",
       "      <td>4</td>\n",
       "      <td>0</td>\n",
       "      <td>0</td>\n",
       "      <td>Jaramillo Ruiz , Gabriela</td>\n",
       "      <td>1</td>\n",
       "    </tr>\n",
       "  </tbody>\n",
       "</table>\n",
       "</div>"
      ],
      "text/plain": [
       "              dateTime                                         email  \\\n",
       "22 2020-03-09 12:08:36  nicolasandres.arambulaj@gimnasiovolta.edu.co   \n",
       "23 2020-03-09 12:19:51        francisco.castrom@gimnasiovolta.edu.co   \n",
       "32 2020-03-09 13:54:37         mariana.clavijor@gimnasiovolta.edu.co   \n",
       "21 2020-03-09 12:02:35    anibalsantiago.coteso@gimnasiovolta.edu.co   \n",
       "46 2020-03-09 16:16:22      gabriela.jaramillor@gimnasiovolta.edu.co   \n",
       "\n",
       "        psCode  problem1  problem2  problem3  problem4  problem5  \\\n",
       "22  1202021001         2         0         1         0         1   \n",
       "23  1202021001         4         1         4         1         0   \n",
       "32  1202021001         2         0         2         0         1   \n",
       "21  1202021001         4         0         1         0         2   \n",
       "46  1202021001         2         0         4         0         0   \n",
       "\n",
       "                             nombre curso  \n",
       "22  Arámbula Jaimes, Nicolás Andrés     1  \n",
       "23         Castro Medina, Francisco     1  \n",
       "32             Clavijo Rey, Mariana     1  \n",
       "21   Cotes Ontibón, Aníbal Santiago     1  \n",
       "46        Jaramillo Ruiz , Gabriela     1  "
      ]
     },
     "execution_count": 115,
     "metadata": {},
     "output_type": "execute_result"
    }
   ],
   "source": [
    "problemas = [\"problem1\", \"problem2\", \"problem3\", \"problem4\", \"problem5\"]\n",
    "for problema in problemas:\n",
    "    df[problema].replace([\"Excelente\",\"Bien\", \"Regular\", \"No lo hice\", \"Mal\"], [0,1,2,3,4], inplace = True)\n",
    "df.head()"
   ]
  },
  {
   "cell_type": "markdown",
   "metadata": {},
   "source": [
    "## Calcular puntaje de dificultad que cada estudiante le asignó a cada taller"
   ]
  },
  {
   "cell_type": "code",
   "execution_count": 119,
   "metadata": {},
   "outputs": [],
   "source": [
    "df['dificultad'] =df[problemas].sum(axis=1)"
   ]
  },
  {
   "cell_type": "code",
   "execution_count": 120,
   "metadata": {
    "scrolled": true
   },
   "outputs": [
    {
     "data": {
      "text/html": [
       "<div>\n",
       "<style scoped>\n",
       "    .dataframe tbody tr th:only-of-type {\n",
       "        vertical-align: middle;\n",
       "    }\n",
       "\n",
       "    .dataframe tbody tr th {\n",
       "        vertical-align: top;\n",
       "    }\n",
       "\n",
       "    .dataframe thead th {\n",
       "        text-align: right;\n",
       "    }\n",
       "</style>\n",
       "<table border=\"1\" class=\"dataframe\">\n",
       "  <thead>\n",
       "    <tr style=\"text-align: right;\">\n",
       "      <th></th>\n",
       "      <th>dateTime</th>\n",
       "      <th>email</th>\n",
       "      <th>psCode</th>\n",
       "      <th>problem1</th>\n",
       "      <th>problem2</th>\n",
       "      <th>problem3</th>\n",
       "      <th>problem4</th>\n",
       "      <th>problem5</th>\n",
       "      <th>nombre</th>\n",
       "      <th>curso</th>\n",
       "      <th>dificultad</th>\n",
       "    </tr>\n",
       "  </thead>\n",
       "  <tbody>\n",
       "    <tr>\n",
       "      <th>22</th>\n",
       "      <td>2020-03-09 12:08:36</td>\n",
       "      <td>nicolasandres.arambulaj@gimnasiovolta.edu.co</td>\n",
       "      <td>1202021001</td>\n",
       "      <td>2</td>\n",
       "      <td>0</td>\n",
       "      <td>1</td>\n",
       "      <td>0</td>\n",
       "      <td>1</td>\n",
       "      <td>Arámbula Jaimes, Nicolás Andrés</td>\n",
       "      <td>1</td>\n",
       "      <td>4</td>\n",
       "    </tr>\n",
       "    <tr>\n",
       "      <th>23</th>\n",
       "      <td>2020-03-09 12:19:51</td>\n",
       "      <td>francisco.castrom@gimnasiovolta.edu.co</td>\n",
       "      <td>1202021001</td>\n",
       "      <td>4</td>\n",
       "      <td>1</td>\n",
       "      <td>4</td>\n",
       "      <td>1</td>\n",
       "      <td>0</td>\n",
       "      <td>Castro Medina, Francisco</td>\n",
       "      <td>1</td>\n",
       "      <td>10</td>\n",
       "    </tr>\n",
       "    <tr>\n",
       "      <th>32</th>\n",
       "      <td>2020-03-09 13:54:37</td>\n",
       "      <td>mariana.clavijor@gimnasiovolta.edu.co</td>\n",
       "      <td>1202021001</td>\n",
       "      <td>2</td>\n",
       "      <td>0</td>\n",
       "      <td>2</td>\n",
       "      <td>0</td>\n",
       "      <td>1</td>\n",
       "      <td>Clavijo Rey, Mariana</td>\n",
       "      <td>1</td>\n",
       "      <td>5</td>\n",
       "    </tr>\n",
       "    <tr>\n",
       "      <th>21</th>\n",
       "      <td>2020-03-09 12:02:35</td>\n",
       "      <td>anibalsantiago.coteso@gimnasiovolta.edu.co</td>\n",
       "      <td>1202021001</td>\n",
       "      <td>4</td>\n",
       "      <td>0</td>\n",
       "      <td>1</td>\n",
       "      <td>0</td>\n",
       "      <td>2</td>\n",
       "      <td>Cotes Ontibón, Aníbal Santiago</td>\n",
       "      <td>1</td>\n",
       "      <td>7</td>\n",
       "    </tr>\n",
       "    <tr>\n",
       "      <th>46</th>\n",
       "      <td>2020-03-09 16:16:22</td>\n",
       "      <td>gabriela.jaramillor@gimnasiovolta.edu.co</td>\n",
       "      <td>1202021001</td>\n",
       "      <td>2</td>\n",
       "      <td>0</td>\n",
       "      <td>4</td>\n",
       "      <td>0</td>\n",
       "      <td>0</td>\n",
       "      <td>Jaramillo Ruiz , Gabriela</td>\n",
       "      <td>1</td>\n",
       "      <td>6</td>\n",
       "    </tr>\n",
       "  </tbody>\n",
       "</table>\n",
       "</div>"
      ],
      "text/plain": [
       "              dateTime                                         email  \\\n",
       "22 2020-03-09 12:08:36  nicolasandres.arambulaj@gimnasiovolta.edu.co   \n",
       "23 2020-03-09 12:19:51        francisco.castrom@gimnasiovolta.edu.co   \n",
       "32 2020-03-09 13:54:37         mariana.clavijor@gimnasiovolta.edu.co   \n",
       "21 2020-03-09 12:02:35    anibalsantiago.coteso@gimnasiovolta.edu.co   \n",
       "46 2020-03-09 16:16:22      gabriela.jaramillor@gimnasiovolta.edu.co   \n",
       "\n",
       "        psCode  problem1  problem2  problem3  problem4  problem5  \\\n",
       "22  1202021001         2         0         1         0         1   \n",
       "23  1202021001         4         1         4         1         0   \n",
       "32  1202021001         2         0         2         0         1   \n",
       "21  1202021001         4         0         1         0         2   \n",
       "46  1202021001         2         0         4         0         0   \n",
       "\n",
       "                             nombre curso  dificultad  \n",
       "22  Arámbula Jaimes, Nicolás Andrés     1           4  \n",
       "23         Castro Medina, Francisco     1          10  \n",
       "32             Clavijo Rey, Mariana     1           5  \n",
       "21   Cotes Ontibón, Aníbal Santiago     1           7  \n",
       "46        Jaramillo Ruiz , Gabriela     1           6  "
      ]
     },
     "execution_count": 120,
     "metadata": {},
     "output_type": "execute_result"
    }
   ],
   "source": [
    "df.head()"
   ]
  },
  {
   "cell_type": "markdown",
   "metadata": {},
   "source": [
    "## Estudiantes con mayor dificultad"
   ]
  },
  {
   "cell_type": "code",
   "execution_count": 134,
   "metadata": {},
   "outputs": [
    {
     "data": {
      "text/plain": [
       "<AxesSubplot:xlabel='nombre'>"
      ]
     },
     "execution_count": 134,
     "metadata": {},
     "output_type": "execute_result"
    },
    {
     "data": {
      "image/png": "[encoded data removed]",
      "text/plain": [
       "<Figure size 432x288 with 1 Axes>"
      ]
     },
     "metadata": {
      "needs_background": "light"
     },
     "output_type": "display_data"
    }
   ],
   "source": [
    "df[[\"nombre\", \"psCode\", \"dificultad\"]].groupby([\"nombre\"]).sum().sort_values(\"dificultad\", ascending=False).plot(kind=\"bar\")"
   ]
  },
  {
   "cell_type": "markdown",
   "metadata": {},
   "source": [
    "## Dificultad promedio por taller"
   ]
  },
  {
   "cell_type": "markdown",
   "metadata": {},
   "source": [
    "## Número de talleres presentados por estudiante vs máximo clase"
   ]
  },
  {
   "cell_type": "code",
   "execution_count": 141,
   "metadata": {},
   "outputs": [
    {
     "data": {
      "text/plain": [
       "0     Arámbula Jaimes, Nicolás Andrés\n",
       "1       Castro Céspedes, Jorge Andrés\n",
       "2            Castro Medina, Francisco\n",
       "3                Clavijo Rey, Mariana\n",
       "4      Cotes Ontibón, Aníbal Santiago\n",
       "                   ...               \n",
       "69               Mineo Pachón, Matteo\n",
       "70            Ortolan Conto, Emanuela\n",
       "71               Sánchez Páez, Felipe\n",
       "72           Suárez Dolmen, Alejandro\n",
       "73         Torres Prada, Sarah Elvira\n",
       "Name: nombre, Length: 74, dtype: object"
      ]
     },
     "execution_count": 141,
     "metadata": {},
     "output_type": "execute_result"
    }
   ],
   "source": [
    "studentsDf['nombre']"
   ]
  },
  {
   "cell_type": "code",
   "execution_count": 195,
   "metadata": {},
   "outputs": [],
   "source": [
    "participation = df[[\"curso\", \"nombre\", \"psCode\"]].groupby([\"nombre\",\"curso\"]).count()\n",
    "participation =participation.rename(columns={\"psCode\":\"talleres\"})\n",
    "\n",
    "participation = participation.reset_index()"
   ]
  },
  {
   "cell_type": "code",
   "execution_count": 196,
   "metadata": {},
   "outputs": [
    {
     "data": {
      "text/plain": [
       "RangeIndex(start=0, stop=47, step=1)"
      ]
     },
     "execution_count": 196,
     "metadata": {},
     "output_type": "execute_result"
    }
   ],
   "source": [
    "participation.index"
   ]
  },
  {
   "cell_type": "code",
   "execution_count": 199,
   "metadata": {},
   "outputs": [],
   "source": [
    "newStudents = []\n",
    "for estudiante in studentsDf['nombre']:\n",
    "    if estudiante not in list(df['nombre']):\n",
    "        newStudent = {\"nombre\":estudiante, \"curso\":studentsDf.loc[studentsDf['nombre']==estudiante]['curso'].iloc[0], \"talleres\":0}\n",
    "        newStudents.append(newStudent)\n",
    "newDf = pd.DataFrame(newStudents)\n",
    "participation = participation.append(newDf)"
   ]
  },
  {
   "cell_type": "code",
   "execution_count": 200,
   "metadata": {},
   "outputs": [],
   "source": [
    "participation = participation.sort_values(by=[\"curso\", \"nombre\"])"
   ]
  },
  {
   "cell_type": "code",
   "execution_count": 207,
   "metadata": {},
   "outputs": [
    {
     "data": {
      "text/html": [
       "<div>\n",
       "<style scoped>\n",
       "    .dataframe tbody tr th:only-of-type {\n",
       "        vertical-align: middle;\n",
       "    }\n",
       "\n",
       "    .dataframe tbody tr th {\n",
       "        vertical-align: top;\n",
       "    }\n",
       "\n",
       "    .dataframe thead th {\n",
       "        text-align: right;\n",
       "    }\n",
       "</style>\n",
       "<table border=\"1\" class=\"dataframe\">\n",
       "  <thead>\n",
       "    <tr style=\"text-align: right;\">\n",
       "      <th></th>\n",
       "      <th>talleres</th>\n",
       "    </tr>\n",
       "    <tr>\n",
       "      <th>curso</th>\n",
       "      <th></th>\n",
       "    </tr>\n",
       "  </thead>\n",
       "  <tbody>\n",
       "    <tr>\n",
       "      <th>1</th>\n",
       "      <td>1</td>\n",
       "    </tr>\n",
       "    <tr>\n",
       "      <th>2</th>\n",
       "      <td>2</td>\n",
       "    </tr>\n",
       "    <tr>\n",
       "      <th>3</th>\n",
       "      <td>2</td>\n",
       "    </tr>\n",
       "    <tr>\n",
       "      <th>4</th>\n",
       "      <td>0</td>\n",
       "    </tr>\n",
       "  </tbody>\n",
       "</table>\n",
       "</div>"
      ],
      "text/plain": [
       "       talleres\n",
       "curso          \n",
       "1             1\n",
       "2             2\n",
       "3             2\n",
       "4             0"
      ]
     },
     "execution_count": 207,
     "metadata": {},
     "output_type": "execute_result"
    }
   ],
   "source": [
    "numTalleres = participation[[\"curso\", \"talleres\"]].groupby('curso').max()\n",
    "numTalleres"
   ]
  },
  {
   "cell_type": "code",
   "execution_count": 201,
   "metadata": {},
   "outputs": [
    {
     "data": {
      "text/html": [
       "<div>\n",
       "<style scoped>\n",
       "    .dataframe tbody tr th:only-of-type {\n",
       "        vertical-align: middle;\n",
       "    }\n",
       "\n",
       "    .dataframe tbody tr th {\n",
       "        vertical-align: top;\n",
       "    }\n",
       "\n",
       "    .dataframe thead th {\n",
       "        text-align: right;\n",
       "    }\n",
       "</style>\n",
       "<table border=\"1\" class=\"dataframe\">\n",
       "  <thead>\n",
       "    <tr style=\"text-align: right;\">\n",
       "      <th></th>\n",
       "      <th>nombre</th>\n",
       "      <th>curso</th>\n",
       "      <th>talleres</th>\n",
       "    </tr>\n",
       "  </thead>\n",
       "  <tbody>\n",
       "    <tr>\n",
       "      <th>0</th>\n",
       "      <td>Arámbula Jaimes, Nicolás Andrés</td>\n",
       "      <td>1</td>\n",
       "      <td>1</td>\n",
       "    </tr>\n",
       "    <tr>\n",
       "      <th>0</th>\n",
       "      <td>Castro Céspedes, Jorge Andrés</td>\n",
       "      <td>1</td>\n",
       "      <td>0</td>\n",
       "    </tr>\n",
       "    <tr>\n",
       "      <th>1</th>\n",
       "      <td>Castro Medina, Francisco</td>\n",
       "      <td>1</td>\n",
       "      <td>1</td>\n",
       "    </tr>\n",
       "    <tr>\n",
       "      <th>2</th>\n",
       "      <td>Clavijo Rey, Mariana</td>\n",
       "      <td>1</td>\n",
       "      <td>1</td>\n",
       "    </tr>\n",
       "    <tr>\n",
       "      <th>3</th>\n",
       "      <td>Cotes Ontibón, Aníbal Santiago</td>\n",
       "      <td>1</td>\n",
       "      <td>1</td>\n",
       "    </tr>\n",
       "    <tr>\n",
       "      <th>...</th>\n",
       "      <td>...</td>\n",
       "      <td>...</td>\n",
       "      <td>...</td>\n",
       "    </tr>\n",
       "    <tr>\n",
       "      <th>22</th>\n",
       "      <td>Mineo Pachón, Matteo</td>\n",
       "      <td>4</td>\n",
       "      <td>0</td>\n",
       "    </tr>\n",
       "    <tr>\n",
       "      <th>23</th>\n",
       "      <td>Ortolan Conto, Emanuela</td>\n",
       "      <td>4</td>\n",
       "      <td>0</td>\n",
       "    </tr>\n",
       "    <tr>\n",
       "      <th>25</th>\n",
       "      <td>Suárez Dolmen, Alejandro</td>\n",
       "      <td>4</td>\n",
       "      <td>0</td>\n",
       "    </tr>\n",
       "    <tr>\n",
       "      <th>24</th>\n",
       "      <td>Sánchez Páez, Felipe</td>\n",
       "      <td>4</td>\n",
       "      <td>0</td>\n",
       "    </tr>\n",
       "    <tr>\n",
       "      <th>26</th>\n",
       "      <td>Torres Prada, Sarah Elvira</td>\n",
       "      <td>4</td>\n",
       "      <td>0</td>\n",
       "    </tr>\n",
       "  </tbody>\n",
       "</table>\n",
       "<p>74 rows × 3 columns</p>\n",
       "</div>"
      ],
      "text/plain": [
       "                             nombre curso  talleres\n",
       "0   Arámbula Jaimes, Nicolás Andrés     1         1\n",
       "0     Castro Céspedes, Jorge Andrés     1         0\n",
       "1          Castro Medina, Francisco     1         1\n",
       "2              Clavijo Rey, Mariana     1         1\n",
       "3    Cotes Ontibón, Aníbal Santiago     1         1\n",
       "..                              ...   ...       ...\n",
       "22             Mineo Pachón, Matteo     4         0\n",
       "23          Ortolan Conto, Emanuela     4         0\n",
       "25         Suárez Dolmen, Alejandro     4         0\n",
       "24             Sánchez Páez, Felipe     4         0\n",
       "26       Torres Prada, Sarah Elvira     4         0\n",
       "\n",
       "[74 rows x 3 columns]"
      ]
     },
     "execution_count": 201,
     "metadata": {},
     "output_type": "execute_result"
    }
   ],
   "source": [
    "participation[\"nota\"] = 2+8*(participation['talleres']/participation[participation['curso']==]['talleres'].max())"
   ]
  },
  {
   "cell_type": "code",
   "execution_count": 133,
   "metadata": {},
   "outputs": [
    {
     "data": {
      "text/plain": [
       "<AxesSubplot:xlabel='psCode'>"
      ]
     },
     "execution_count": 133,
     "metadata": {},
     "output_type": "execute_result"
    },
    {
     "data": {
      "image/png": "[encoded data removed]",
      "text/plain": [
       "<Figure size 432x288 with 1 Axes>"
      ]
     },
     "metadata": {
      "needs_background": "light"
     },
     "output_type": "display_data"
    }
   ],
   "source": [
    "df[[\"psCode\", \"dificultad\"]].groupby(['psCode']).mean().plot(kind=\"bar\")"
   ]
  },
  {
   "cell_type": "markdown",
   "metadata": {},
   "source": [
    "## Graficar diagramas de barras para cada taller"
   ]
  },
  {
   "cell_type": "code",
   "execution_count": 108,
   "metadata": {},
   "outputs": [
    {
     "data": {
      "image/png": "[encoded data removed]",
      "text/plain": [
       "<Figure size 432x288 with 1 Axes>"
      ]
     },
     "metadata": {
      "needs_background": "light"
     },
     "output_type": "display_data"
    }
   ],
   "source": [
    "df[df['psCode']==\"2202021001\"][\"problem1\"].value_counts().plot(kind=\"bar\");"
   ]
  },
  {
   "cell_type": "code",
   "execution_count": 114,
   "metadata": {},
   "outputs": [
    {
     "data": {
      "text/html": [
       "<div>\n",
       "<style scoped>\n",
       "    .dataframe tbody tr th:only-of-type {\n",
       "        vertical-align: middle;\n",
       "    }\n",
       "\n",
       "    .dataframe tbody tr th {\n",
       "        vertical-align: top;\n",
       "    }\n",
       "\n",
       "    .dataframe thead th {\n",
       "        text-align: right;\n",
       "    }\n",
       "</style>\n",
       "<table border=\"1\" class=\"dataframe\">\n",
       "  <thead>\n",
       "    <tr style=\"text-align: right;\">\n",
       "      <th></th>\n",
       "      <th></th>\n",
       "      <th></th>\n",
       "      <th></th>\n",
       "      <th></th>\n",
       "      <th></th>\n",
       "      <th>dateTime</th>\n",
       "      <th>email</th>\n",
       "      <th>nombre</th>\n",
       "      <th>curso</th>\n",
       "    </tr>\n",
       "    <tr>\n",
       "      <th>psCode</th>\n",
       "      <th>problem1</th>\n",
       "      <th>problem2</th>\n",
       "      <th>problem3</th>\n",
       "      <th>problem4</th>\n",
       "      <th>problem5</th>\n",
       "      <th></th>\n",
       "      <th></th>\n",
       "      <th></th>\n",
       "      <th></th>\n",
       "    </tr>\n",
       "  </thead>\n",
       "  <tbody>\n",
       "    <tr>\n",
       "      <th rowspan=\"5\" valign=\"top\">1202021001</th>\n",
       "      <th>Bien</th>\n",
       "      <th>Bien</th>\n",
       "      <th>Bien</th>\n",
       "      <th>Regular</th>\n",
       "      <th>Mal</th>\n",
       "      <td>1</td>\n",
       "      <td>1</td>\n",
       "      <td>1</td>\n",
       "      <td>1</td>\n",
       "    </tr>\n",
       "    <tr>\n",
       "      <th rowspan=\"3\" valign=\"top\">Mal</th>\n",
       "      <th rowspan=\"2\" valign=\"top\">Bien</th>\n",
       "      <th>Mal</th>\n",
       "      <th>Bien</th>\n",
       "      <th>Excelente</th>\n",
       "      <td>1</td>\n",
       "      <td>1</td>\n",
       "      <td>1</td>\n",
       "      <td>1</td>\n",
       "    </tr>\n",
       "    <tr>\n",
       "      <th>Regular</th>\n",
       "      <th>Excelente</th>\n",
       "      <th>No lo hice</th>\n",
       "      <td>1</td>\n",
       "      <td>1</td>\n",
       "      <td>1</td>\n",
       "      <td>1</td>\n",
       "    </tr>\n",
       "    <tr>\n",
       "      <th>Excelente</th>\n",
       "      <th>Bien</th>\n",
       "      <th>Excelente</th>\n",
       "      <th>Regular</th>\n",
       "      <td>1</td>\n",
       "      <td>1</td>\n",
       "      <td>1</td>\n",
       "      <td>1</td>\n",
       "    </tr>\n",
       "    <tr>\n",
       "      <th>No lo hice</th>\n",
       "      <th>Bien</th>\n",
       "      <th>Regular</th>\n",
       "      <th>Excelente</th>\n",
       "      <th>Bien</th>\n",
       "      <td>1</td>\n",
       "      <td>1</td>\n",
       "      <td>1</td>\n",
       "      <td>1</td>\n",
       "    </tr>\n",
       "    <tr>\n",
       "      <th>...</th>\n",
       "      <th>...</th>\n",
       "      <th>...</th>\n",
       "      <th>...</th>\n",
       "      <th>...</th>\n",
       "      <th>...</th>\n",
       "      <td>...</td>\n",
       "      <td>...</td>\n",
       "      <td>...</td>\n",
       "      <td>...</td>\n",
       "    </tr>\n",
       "    <tr>\n",
       "      <th rowspan=\"5\" valign=\"top\">3202021002</th>\n",
       "      <th rowspan=\"5\" valign=\"top\">Excelente</th>\n",
       "      <th>Bien</th>\n",
       "      <th>Bien</th>\n",
       "      <th>Regular</th>\n",
       "      <th>Mal</th>\n",
       "      <td>1</td>\n",
       "      <td>1</td>\n",
       "      <td>1</td>\n",
       "      <td>1</td>\n",
       "    </tr>\n",
       "    <tr>\n",
       "      <th rowspan=\"4\" valign=\"top\">Excelente</th>\n",
       "      <th>Bien</th>\n",
       "      <th>Regular</th>\n",
       "      <th>Excelente</th>\n",
       "      <td>1</td>\n",
       "      <td>1</td>\n",
       "      <td>1</td>\n",
       "      <td>1</td>\n",
       "    </tr>\n",
       "    <tr>\n",
       "      <th rowspan=\"3\" valign=\"top\">Excelente</th>\n",
       "      <th rowspan=\"2\" valign=\"top\">Bien</th>\n",
       "      <th>Bien</th>\n",
       "      <td>1</td>\n",
       "      <td>1</td>\n",
       "      <td>1</td>\n",
       "      <td>1</td>\n",
       "    </tr>\n",
       "    <tr>\n",
       "      <th>Excelente</th>\n",
       "      <td>1</td>\n",
       "      <td>1</td>\n",
       "      <td>1</td>\n",
       "      <td>1</td>\n",
       "    </tr>\n",
       "    <tr>\n",
       "      <th>Excelente</th>\n",
       "      <th>Bien</th>\n",
       "      <td>1</td>\n",
       "      <td>1</td>\n",
       "      <td>1</td>\n",
       "      <td>1</td>\n",
       "    </tr>\n",
       "  </tbody>\n",
       "</table>\n",
       "<p>61 rows × 4 columns</p>\n",
       "</div>"
      ],
      "text/plain": [
       "                                                                dateTime  \\\n",
       "psCode     problem1   problem2  problem3  problem4  problem5               \n",
       "1202021001 Bien       Bien      Bien      Regular   Mal                1   \n",
       "           Mal        Bien      Mal       Bien      Excelente          1   \n",
       "                                Regular   Excelente No lo hice         1   \n",
       "                      Excelente Bien      Excelente Regular            1   \n",
       "           No lo hice Bien      Regular   Excelente Bien               1   \n",
       "...                                                                  ...   \n",
       "3202021002 Excelente  Bien      Bien      Regular   Mal                1   \n",
       "                      Excelente Bien      Regular   Excelente          1   \n",
       "                                Excelente Bien      Bien               1   \n",
       "                                                    Excelente          1   \n",
       "                                          Excelente Bien               1   \n",
       "\n",
       "                                                                email  nombre  \\\n",
       "psCode     problem1   problem2  problem3  problem4  problem5                    \n",
       "1202021001 Bien       Bien      Bien      Regular   Mal             1       1   \n",
       "           Mal        Bien      Mal       Bien      Excelente       1       1   \n",
       "                                Regular   Excelente No lo hice      1       1   \n",
       "                      Excelente Bien      Excelente Regular         1       1   \n",
       "           No lo hice Bien      Regular   Excelente Bien            1       1   \n",
       "...                                                               ...     ...   \n",
       "3202021002 Excelente  Bien      Bien      Regular   Mal             1       1   \n",
       "                      Excelente Bien      Regular   Excelente       1       1   \n",
       "                                Excelente Bien      Bien            1       1   \n",
       "                                                    Excelente       1       1   \n",
       "                                          Excelente Bien            1       1   \n",
       "\n",
       "                                                                curso  \n",
       "psCode     problem1   problem2  problem3  problem4  problem5           \n",
       "1202021001 Bien       Bien      Bien      Regular   Mal             1  \n",
       "           Mal        Bien      Mal       Bien      Excelente       1  \n",
       "                                Regular   Excelente No lo hice      1  \n",
       "                      Excelente Bien      Excelente Regular         1  \n",
       "           No lo hice Bien      Regular   Excelente Bien            1  \n",
       "...                                                               ...  \n",
       "3202021002 Excelente  Bien      Bien      Regular   Mal             1  \n",
       "                      Excelente Bien      Regular   Excelente       1  \n",
       "                                Excelente Bien      Bien            1  \n",
       "                                                    Excelente       1  \n",
       "                                          Excelente Bien            1  \n",
       "\n",
       "[61 rows x 4 columns]"
      ]
     },
     "execution_count": 114,
     "metadata": {},
     "output_type": "execute_result"
    }
   ],
   "source": [
    "df.groupby([\"psCode\", \"problem1\",\"problem2\", \"problem3\", \"problem4\", \"problem5\" ]).count()"
   ]
  },
  {
   "cell_type": "code",
   "execution_count": null,
   "metadata": {},
   "outputs": [],
   "source": []
  }
 ],
 "metadata": {
  "kernelspec": {
   "display_name": "Python 3",
   "language": "python",
   "name": "python3"
  },
  "language_info": {
   "codemirror_mode": {
    "name": "ipython",
    "version": 3
   },
   "file_extension": ".py",
   "mimetype": "text/x-python",
   "name": "python",
   "nbconvert_exporter": "python",
   "pygments_lexer": "ipython3",
   "version": "3.8.5"
  }
 },
 "nbformat": 4,
 "nbformat_minor": 4
}
